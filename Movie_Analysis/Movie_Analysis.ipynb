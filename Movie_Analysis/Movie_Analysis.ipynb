{
 "cells": [
  {
   "cell_type": "markdown",
   "id": "eff50faf",
   "metadata": {},
   "source": [
    "## Movie Analysis"
   ]
  },
  {
   "cell_type": "markdown",
   "id": "19bf4069",
   "metadata": {},
   "source": [
    "### Import libraries"
   ]
  },
  {
   "cell_type": "code",
   "execution_count": 1,
   "id": "8e4519e2",
   "metadata": {},
   "outputs": [],
   "source": [
    "import pandas as pd\n",
    "import matplotlib.pyplot as plt"
   ]
  },
  {
   "cell_type": "code",
   "execution_count": 10,
   "id": "26210a5d",
   "metadata": {},
   "outputs": [
    {
     "data": {
      "text/plain": [
       "Index(['Title', 'Production company', 'Distributed by', 'Release date',\n",
       "       'Running time', 'Country', 'Language', 'Box office',\n",
       "       'Release date (datetime)', 'Directed by', 'Written by', 'Based on',\n",
       "       'Produced by', 'Starring', 'Music by', 'Release dates', 'Budget',\n",
       "       'Story by', 'Narrated by', 'Cinematography', 'Edited by', 'Languages',\n",
       "       'Screenplay by', 'Countries', 'Color process', 'Production companies',\n",
       "       'Japanese', 'Hepburn', 'Adaptation by', 'Animation by', 'Traditional',\n",
       "       'Simplified', 'Original title', 'Layouts by', 'Original concept by'],\n",
       "      dtype='object')"
      ]
     },
     "execution_count": 10,
     "metadata": {},
     "output_type": "execute_result"
    }
   ],
   "source": [
    "df = pd.read_csv('disney_movie_data.csv', index_col=False).drop(['Unnamed: 0'], axis=1)\n",
    "df.columns\n",
    "# df.head()"
   ]
  },
  {
   "cell_type": "code",
   "execution_count": null,
   "id": "8fe40eb8",
   "metadata": {},
   "outputs": [],
   "source": []
  },
  {
   "cell_type": "code",
   "execution_count": null,
   "id": "f3c55e21",
   "metadata": {},
   "outputs": [],
   "source": []
  }
 ],
 "metadata": {
  "kernelspec": {
   "display_name": "Python 3 (ipykernel)",
   "language": "python",
   "name": "python3"
  },
  "language_info": {
   "codemirror_mode": {
    "name": "ipython",
    "version": 3
   },
   "file_extension": ".py",
   "mimetype": "text/x-python",
   "name": "python",
   "nbconvert_exporter": "python",
   "pygments_lexer": "ipython3",
   "version": "3.9.7"
  }
 },
 "nbformat": 4,
 "nbformat_minor": 5
}
