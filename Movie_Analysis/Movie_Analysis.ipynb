{
 "cells": [
  {
   "cell_type": "markdown",
   "id": "f8b6c9ce",
   "metadata": {},
   "source": [
    "### Import necessary libraries"
   ]
  },
  {
   "cell_type": "code",
   "execution_count": 7,
   "id": "36bbb22f",
   "metadata": {},
   "outputs": [],
   "source": [
    "from bs4 import BeautifulSoup as bs\n",
    "import requests\n",
    "import json"
   ]
  },
  {
   "cell_type": "markdown",
   "id": "3f382bdc",
   "metadata": {},
   "source": [
    "### Scrape the infomation of a single movie on wikipedia\n",
    "\n",
    "- Webpage: https://en.wikipedia.org/wiki/Toy_Story_3"
   ]
  },
  {
   "cell_type": "code",
   "execution_count": 2,
   "id": "a5bed9d4",
   "metadata": {},
   "outputs": [],
   "source": [
    "response = requests.get('https://en.wikipedia.org/wiki/Toy_Story_3')\n",
    "webpage = bs(response.content, 'html.parser')\n",
    "[s.extract() for s in webpage('sup')] # extract all <sup> tags\n",
    "contents = webpage.prettify()\n",
    "# print(contents)"
   ]
  },
  {
   "cell_type": "code",
   "execution_count": 3,
   "id": "f3bf069d",
   "metadata": {},
   "outputs": [
    {
     "data": {
      "text/plain": [
       "{'Title': 'Toy Story 3',\n",
       " 'Directed by': 'Lee Unkrich',\n",
       " 'Screenplay by': 'Michael Arndt',\n",
       " 'Story by': ['John Lasseter', 'Andrew Stanton', 'Lee Unkrich'],\n",
       " 'Produced by': 'Darla K. Anderson',\n",
       " 'Starring': ['Tom Hanks',\n",
       "  'Tim Allen',\n",
       "  'Joan Cusack',\n",
       "  'Don Rickles',\n",
       "  'Wallace Shawn',\n",
       "  'John Ratzenberger',\n",
       "  'Estelle Harris',\n",
       "  'Ned Beatty',\n",
       "  'Michael Keaton',\n",
       "  'Jodi Benson',\n",
       "  'John Morris'],\n",
       " 'Cinematography': ['Jeremy Lasky', 'Kim White'],\n",
       " 'Edited by': 'Ken Schretzmann',\n",
       " 'Music by': 'Randy Newman',\n",
       " 'Production companies': ['Walt Disney Pictures', 'Pixar Animation Studios'],\n",
       " 'Distributed by': 'Walt Disney Studios Motion Pictures',\n",
       " 'Release dates': ['June 12, 2010 ( 2010-06-12 ) ( Taormina Film Fest )',\n",
       "  'June 18, 2010 ( 2010-06-18 ) (United States)'],\n",
       " 'Running time': '103 minutes',\n",
       " 'Country': 'United States',\n",
       " 'Language': 'English',\n",
       " 'Budget': '$200 million',\n",
       " 'Box office': '$1.067 billion'}"
      ]
     },
     "execution_count": 3,
     "metadata": {},
     "output_type": "execute_result"
    }
   ],
   "source": [
    "def get_value(td):\n",
    "    if td.find('li'):\n",
    "        return [li.get_text(\" \", strip=True).replace('\\xa0', ' ') for li in td.find_all('li')]\n",
    "    else:\n",
    "        return td.get_text(\" \", strip=True).replace('\\xa0', ' ')\n",
    "\n",
    "# Scrape the infobox of a movie and save it into a dictionary\n",
    "movie_info = {} \n",
    "infobox = webpage.find('table', class_='infobox vevent')\n",
    "infobox_tr = infobox.find_all('tr')\n",
    "\n",
    "for idx, row in enumerate(infobox_tr):\n",
    "    if idx == 0:\n",
    "        movie_info['Title'] = row.find('th').get_text(\" \", strip=True)\n",
    "    elif idx == 1:\n",
    "        continue\n",
    "    else:\n",
    "        if row.find('th'): \n",
    "            key = row.find('th').get_text(\" \", strip=True)\n",
    "            value = get_value(row.find('td'))\n",
    "            movie_info[key] = value\n",
    "        \n",
    "movie_info"
   ]
  },
  {
   "cell_type": "markdown",
   "id": "93a399d1",
   "metadata": {},
   "source": [
    "### Scrape the information of all movies on wikipedia\n",
    "\n",
    "- Webpage: https://en.wikipedia.org/wiki/List_of_Walt_Disney_Pictures_films"
   ]
  },
  {
   "cell_type": "code",
   "execution_count": 4,
   "id": "c1a45d2a",
   "metadata": {},
   "outputs": [],
   "source": [
    "response = requests.get('https://en.wikipedia.org/wiki/List_of_Walt_Disney_Pictures_films')\n",
    "webpage = bs(response.content, 'html.parser')\n",
    "# Do not include table 'Upcoming' and 'Undated', since tables contain a lot of inaccurate wikipedia movie url\n",
    "movie_tables = webpage.select('table.wikitable.sortable')[:-2]\n",
    "movie_list = []\n",
    "for table in movie_tables:\n",
    "    movies_in_table = table.select('i > a')\n",
    "    for movie in movies_in_table:\n",
    "        movie_list.append(movie)"
   ]
  },
  {
   "cell_type": "code",
   "execution_count": 5,
   "id": "69ab0f05",
   "metadata": {},
   "outputs": [],
   "source": [
    "# previously defined function above\n",
    "def get_value(td):\n",
    "    if td.find('li'):\n",
    "        return [li.get_text(\" \", strip=True).replace('\\xa0', ' ') for li in td.find_all('li')]\n",
    "    else:\n",
    "        return td.get_text(\" \", strip=True).replace('\\xa0', ' ')\n",
    "    \n",
    "# get movie information from infobox inside each wikipedia disney movie page\n",
    "def get_movie_info(url):\n",
    "    response = requests.get(url)\n",
    "    webpage = bs(response.content, 'html.parser')\n",
    "    movie_info = {} \n",
    "    infobox = webpage.find('table', class_='infobox vevent')\n",
    "    infobox_tr = infobox.find_all('tr')\n",
    "    for idx, row in enumerate(infobox_tr):\n",
    "        if idx == 0:\n",
    "            movie_info['Title'] = row.find('th').get_text(\" \", strip=True)\n",
    "        elif idx == 1:\n",
    "            continue\n",
    "        else:\n",
    "            if row.find('th'): \n",
    "                key = row.find('th').get_text(\" \", strip=True)\n",
    "                value = get_value(row.find('td'))\n",
    "                movie_info[key] = value\n",
    "\n",
    "    return movie_info"
   ]
  },
  {
   "cell_type": "code",
   "execution_count": 6,
   "id": "6555460f",
   "metadata": {},
   "outputs": [
    {
     "name": "stdout",
     "output_type": "stream",
     "text": [
      "Zorro the Avenger\n",
      "'NoneType' object has no attribute 'find'\n",
      "The Sign of Zorro\n",
      "'NoneType' object has no attribute 'find'\n",
      "The Beatles: Get Back – The Rooftop Concert\n",
      "'NoneType' object has no attribute 'find'\n"
     ]
    }
   ],
   "source": [
    "disney_movie_data = []\n",
    "\n",
    "for idx, movie in enumerate(movie_list):\n",
    "    try:\n",
    "        movie_href = movie['href']\n",
    "        wiki_url = 'https://en.wikipedia.org' + movie_href\n",
    "        disney_movie_data.append(get_movie_info(wiki_url))\n",
    "        \n",
    "    except Exception as e:\n",
    "        print(movie.get_text())\n",
    "        print(e)"
   ]
  },
  {
   "cell_type": "markdown",
   "id": "8d8e780f",
   "metadata": {},
   "source": [
    "### Save / Reload movie data"
   ]
  },
  {
   "cell_type": "code",
   "execution_count": 8,
   "id": "6d974fe3",
   "metadata": {},
   "outputs": [],
   "source": [
    "def save_data(title, data):\n",
    "    with open(title, 'w', encoding='utf-8') as f:\n",
    "        json.dump(data, f, ensure_ascii=False, indent=2)"
   ]
  },
  {
   "cell_type": "code",
   "execution_count": 9,
   "id": "e8e7e1ac",
   "metadata": {},
   "outputs": [],
   "source": [
    "def reload_data(title):\n",
    "    with open(title, 'r', encoding='utf-8') as f:\n",
    "        return json.load(f)"
   ]
  },
  {
   "cell_type": "code",
   "execution_count": 10,
   "id": "8d6b87fd",
   "metadata": {},
   "outputs": [],
   "source": [
    "save_data('disney_movie_data.json', disney_movie_data)"
   ]
  }
 ],
 "metadata": {
  "kernelspec": {
   "display_name": "Python 3 (ipykernel)",
   "language": "python",
   "name": "python3"
  },
  "language_info": {
   "codemirror_mode": {
    "name": "ipython",
    "version": 3
   },
   "file_extension": ".py",
   "mimetype": "text/x-python",
   "name": "python",
   "nbconvert_exporter": "python",
   "pygments_lexer": "ipython3",
   "version": "3.9.7"
  }
 },
 "nbformat": 4,
 "nbformat_minor": 5
}
