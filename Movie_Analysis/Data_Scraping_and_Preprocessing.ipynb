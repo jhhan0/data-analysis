{
 "cells": [
  {
   "cell_type": "markdown",
   "id": "d08a2214",
   "metadata": {},
   "source": [
    "# Data Scraping and Preprocessing\n",
    "- Reference: "
   ]
  },
  {
   "cell_type": "markdown",
   "id": "f8b6c9ce",
   "metadata": {},
   "source": [
    "### Import necessary libraries"
   ]
  },
  {
   "cell_type": "code",
   "execution_count": 61,
   "id": "36bbb22f",
   "metadata": {},
   "outputs": [],
   "source": [
    "from bs4 import BeautifulSoup as bs\n",
    "from datetime import datetime\n",
    "import requests\n",
    "import json\n",
    "import re\n",
    "import pandas as pd"
   ]
  },
  {
   "cell_type": "markdown",
   "id": "3f382bdc",
   "metadata": {},
   "source": [
    "### Scrape the infomation of a single movie on wikipedia\n",
    "\n",
    "- Webpage: https://en.wikipedia.org/wiki/Toy_Story_3"
   ]
  },
  {
   "cell_type": "code",
   "execution_count": 2,
   "id": "a5bed9d4",
   "metadata": {},
   "outputs": [],
   "source": [
    "response = requests.get('https://en.wikipedia.org/wiki/Toy_Story_3')\n",
    "webpage = bs(response.content, 'html.parser')\n",
    "contents = webpage.prettify()\n",
    "# print(contents)"
   ]
  },
  {
   "cell_type": "code",
   "execution_count": 3,
   "id": "f3bf069d",
   "metadata": {
    "scrolled": false
   },
   "outputs": [
    {
     "data": {
      "text/plain": [
       "{'Title': 'Toy Story 3',\n",
       " 'Directed by': 'Lee Unkrich',\n",
       " 'Screenplay by': 'Michael Arndt',\n",
       " 'Story by': ['John Lasseter', 'Andrew Stanton', 'Lee Unkrich'],\n",
       " 'Produced by': 'Darla K. Anderson',\n",
       " 'Starring': ['Tom Hanks',\n",
       "  'Tim Allen',\n",
       "  'Joan Cusack',\n",
       "  'Don Rickles',\n",
       "  'Wallace Shawn',\n",
       "  'John Ratzenberger',\n",
       "  'Estelle Harris',\n",
       "  'Ned Beatty',\n",
       "  'Michael Keaton',\n",
       "  'Jodi Benson',\n",
       "  'John Morris'],\n",
       " 'Cinematography': ['Jeremy Lasky', 'Kim White'],\n",
       " 'Edited by': 'Ken Schretzmann',\n",
       " 'Music by': 'Randy Newman',\n",
       " 'Production companies': ['Walt Disney Pictures', 'Pixar Animation Studios'],\n",
       " 'Distributed by': 'Walt Disney Studios Motion Pictures',\n",
       " 'Release dates': ['June 12, 2010 ( Taormina Film Fest )',\n",
       "  'June 18, 2010 (United States)'],\n",
       " 'Running time': '103 minutes',\n",
       " 'Country': 'United States',\n",
       " 'Language': 'English',\n",
       " 'Budget': '$200 million',\n",
       " 'Box office': '$1.067 billion'}"
      ]
     },
     "execution_count": 3,
     "metadata": {},
     "output_type": "execute_result"
    }
   ],
   "source": [
    "def get_value(td):\n",
    "    if td.find('li'):\n",
    "        return [li.get_text(' ', strip=True).replace('\\xa0', ' ') for li in td.find_all('li')]\n",
    "    elif td.select('a ~ br'):\n",
    "        pattern = r'[,():$]'\n",
    "        remove_tags(td, 'b')\n",
    "        return [text for text in td.stripped_strings if not re.search(pattern, text)]\n",
    "    else:\n",
    "        return td.get_text(' ', strip=True).replace('\\xa0', ' ')\n",
    "    \n",
    "def remove_tags(soup, tags):\n",
    "    tags = soup.find_all(tags)\n",
    "    for tag in tags:\n",
    "        tag.decompose()\n",
    "\n",
    "# Scrape the infobox of the movie wikipedia page and save it into a dictionary\n",
    "movie_info = {} \n",
    "remove_tags(webpage, ['sup', 'span'])\n",
    "infobox = webpage.find('table', class_='infobox vevent')\n",
    "infobox_tr = infobox.find_all('tr')\n",
    "\n",
    "for idx, row in enumerate(infobox_tr):\n",
    "    if idx == 0:\n",
    "        movie_info['Title'] = row.find('th').get_text(' ', strip=True)\n",
    "    else:\n",
    "        if row.find('th'): \n",
    "            key = row.find('th').get_text(' ', strip=True)\n",
    "            value = get_value(row.find('td'))\n",
    "            movie_info[key] = value\n",
    "        \n",
    "movie_info"
   ]
  },
  {
   "cell_type": "markdown",
   "id": "93a399d1",
   "metadata": {},
   "source": [
    "### Scrape the information of all movies on wikipedia\n",
    "\n",
    "- Webpage: https://en.wikipedia.org/wiki/List_of_Walt_Disney_Pictures_films"
   ]
  },
  {
   "cell_type": "code",
   "execution_count": 4,
   "id": "c1a45d2a",
   "metadata": {},
   "outputs": [],
   "source": [
    "response = requests.get('https://en.wikipedia.org/wiki/List_of_Walt_Disney_Pictures_films')\n",
    "webpage = bs(response.content, 'html.parser')\n",
    "# Do not include tables 'Upcoming' and 'Undated', since those tables contain a lot of inaccurate data \n",
    "tables = webpage.select('table.wikitable.sortable')[:-2]\n",
    "movie_list = []\n",
    "for table in tables:\n",
    "    movies = table.select('i > a')\n",
    "    for movie in movies:\n",
    "        movie_list.append(movie)"
   ]
  },
  {
   "cell_type": "code",
   "execution_count": 5,
   "id": "69ab0f05",
   "metadata": {},
   "outputs": [],
   "source": [
    "# previously defined function above\n",
    "def get_value(td):\n",
    "    if td.find('li'):\n",
    "        return [li.get_text(' ', strip=True).replace('\\xa0', ' ') for li in td.find_all('li')]\n",
    "    elif td.select('a ~ br'):\n",
    "        pattern = r'[,():$]'\n",
    "        remove_tags(td, 'b')\n",
    "        return [text for text in td.stripped_strings if not re.search(pattern, text)]\n",
    "    else:\n",
    "        return td.get_text(' ', strip=True).replace('\\xa0', ' ')\n",
    "\n",
    "# Clean up task 1. remove references (remove 'sup', 'span' html tags)\n",
    "def remove_tags(soup, tags):\n",
    "    tags = soup.find_all(tags)\n",
    "    for tag in tags:\n",
    "        tag.decompose()\n",
    "    \n",
    "# get movie information from infobox inside each wikipedia disney movie page\n",
    "def get_movie_info(url):\n",
    "    response = requests.get(url)\n",
    "    webpage = bs(response.content, 'html.parser')\n",
    "    remove_tags(webpage,  ['sup', 'span'])\n",
    "    movie_info = {} \n",
    "    infobox = webpage.find('table', class_='infobox vevent')\n",
    "    infobox_tr = infobox.find_all('tr')\n",
    "    for idx, row in enumerate(infobox_tr):\n",
    "        if idx == 0:\n",
    "            movie_info['Title'] = row.find('th').get_text(' ', strip=True)\n",
    "        else:\n",
    "            if row.find('th'): \n",
    "                key = row.find('th').get_text(' ', strip=True)\n",
    "                value = get_value(row.find('td'))\n",
    "                movie_info[key] = value\n",
    "\n",
    "    return movie_info"
   ]
  },
  {
   "cell_type": "code",
   "execution_count": 6,
   "id": "6555460f",
   "metadata": {
    "collapsed": true
   },
   "outputs": [
    {
     "name": "stdout",
     "output_type": "stream",
     "text": [
      "0\n",
      "10\n",
      "20\n",
      "30\n",
      "40\n",
      "Zorro the Avenger\n",
      "'NoneType' object has no attribute 'find'\n",
      "The Sign of Zorro\n",
      "'NoneType' object has no attribute 'find'\n",
      "50\n",
      "60\n",
      "70\n",
      "80\n",
      "90\n",
      "100\n",
      "110\n",
      "120\n",
      "130\n",
      "140\n",
      "150\n",
      "160\n",
      "170\n",
      "180\n",
      "190\n",
      "200\n",
      "210\n",
      "220\n",
      "230\n",
      "240\n",
      "250\n",
      "260\n",
      "270\n",
      "280\n",
      "290\n",
      "300\n",
      "310\n",
      "320\n",
      "330\n",
      "340\n",
      "350\n",
      "360\n",
      "370\n",
      "380\n",
      "390\n",
      "400\n",
      "410\n",
      "420\n",
      "430\n",
      "440\n",
      "450\n",
      "460\n",
      "470\n",
      "480\n",
      "The Beatles: Get Back – The Rooftop Concert\n",
      "'NoneType' object has no attribute 'find'\n",
      "490\n"
     ]
    }
   ],
   "source": [
    "disney_movie_data = []\n",
    "\n",
    "for idx, movie in enumerate(movie_list):\n",
    "    if idx % 10 == 0:\n",
    "        print(idx)\n",
    "    try:\n",
    "        movie_href = movie['href']\n",
    "        wiki_url = 'https://en.wikipedia.org' + movie_href\n",
    "        disney_movie_data.append(get_movie_info(wiki_url))\n",
    "        \n",
    "    except Exception as e:\n",
    "        print(movie.get_text())\n",
    "        print(e)"
   ]
  },
  {
   "cell_type": "markdown",
   "id": "8d8e780f",
   "metadata": {},
   "source": [
    "### Save / Reload movie data"
   ]
  },
  {
   "cell_type": "code",
   "execution_count": 2,
   "id": "6d974fe3",
   "metadata": {},
   "outputs": [],
   "source": [
    "def save_data(title, data):\n",
    "    with open(title, 'w', encoding='utf-8') as f:\n",
    "        json.dump(data, f, ensure_ascii=False, indent=2)"
   ]
  },
  {
   "cell_type": "code",
   "execution_count": 3,
   "id": "e8e7e1ac",
   "metadata": {},
   "outputs": [],
   "source": [
    "def reload_data(title):\n",
    "    with open(title, 'r', encoding='utf-8') as f:\n",
    "        return json.load(f)"
   ]
  },
  {
   "cell_type": "code",
   "execution_count": 9,
   "id": "8d6b87fd",
   "metadata": {},
   "outputs": [],
   "source": [
    "save_data('disney_movie_data.json', disney_movie_data)"
   ]
  },
  {
   "cell_type": "code",
   "execution_count": 45,
   "id": "e7902821",
   "metadata": {},
   "outputs": [
    {
     "data": {
      "text/plain": [
       "{'Title': 'Academy Award Review of',\n",
       " 'Production company': 'Walt Disney Productions',\n",
       " 'Distributed by': 'United Artists',\n",
       " 'Release date': ['May 19, 1937'],\n",
       " 'Running time': '41 minutes (74 minutes 1966 release)',\n",
       " 'Country': 'United States',\n",
       " 'Language': 'English',\n",
       " 'Box office': '$45.472'}"
      ]
     },
     "execution_count": 45,
     "metadata": {},
     "output_type": "execute_result"
    }
   ],
   "source": [
    "disney_movies = reload_data('disney_movie_data.json')\n",
    "disney_movies[0]"
   ]
  },
  {
   "cell_type": "markdown",
   "id": "239b3501",
   "metadata": {},
   "source": [
    "### Convert string value 'Running time' to integer"
   ]
  },
  {
   "cell_type": "code",
   "execution_count": 22,
   "id": "329b99b8",
   "metadata": {},
   "outputs": [],
   "source": [
    "def convert_time(string):\n",
    "    if isinstance(string, list):\n",
    "        return int(string[0].split(' ')[0])\n",
    "    elif string == 'N/A':\n",
    "        return None\n",
    "    else:\n",
    "        return int(string.split(' ')[0])\n",
    "\n",
    "for movie in disney_movies:\n",
    "    movie['Running time (int)'] = convert_time(movie.get('Running time', 'N/A'))"
   ]
  },
  {
   "cell_type": "code",
   "execution_count": 23,
   "id": "c9da8d39",
   "metadata": {},
   "outputs": [
    {
     "data": {
      "text/plain": [
       "{'Title': 'One Hundred and One Dalmatians',\n",
       " 'Directed by': ['Wolfgang Reitherman', 'Clyde Geronimi', 'Hamilton Luske'],\n",
       " 'Story by': 'Bill Peet',\n",
       " 'Based on': 'The Hundred and One Dalmatians by Dodie Smith',\n",
       " 'Produced by': 'Walt Disney',\n",
       " 'Starring': ['Rod Taylor',\n",
       "  'Cate Bauer',\n",
       "  'Betty Lou Gerson',\n",
       "  'Ben Wright',\n",
       "  'Bill Lee (singing voice)',\n",
       "  'Lisa Davis',\n",
       "  'Martha Wentworth'],\n",
       " 'Edited by': ['Roy M. Brewer, Jr.', 'Donald Halliday'],\n",
       " 'Music by': 'George Bruns',\n",
       " 'Production company': 'Walt Disney Productions',\n",
       " 'Distributed by': 'Buena Vista Distribution',\n",
       " 'Release date': ['January 25, 1961'],\n",
       " 'Running time': '79 minutes',\n",
       " 'Country': 'United States',\n",
       " 'Language': 'English',\n",
       " 'Budget': '$3.6 million',\n",
       " 'Box office': '$303 million',\n",
       " 'Running time (int)': 79,\n",
       " 'Budget (float)': 3600000.0,\n",
       " 'Box office (float)': 303000000.0}"
      ]
     },
     "execution_count": 23,
     "metadata": {},
     "output_type": "execute_result"
    }
   ],
   "source": [
    "disney_movies[50]"
   ]
  },
  {
   "cell_type": "markdown",
   "id": "8376c0aa",
   "metadata": {},
   "source": [
    "### Convert string value 'Budget & Box office' to integer"
   ]
  },
  {
   "cell_type": "code",
   "execution_count": 9,
   "id": "81ec5db0",
   "metadata": {},
   "outputs": [],
   "source": [
    "amount = r'(thousand|million|billion)'\n",
    "# money = r'\\d*(\\.\\d*)*(,\\d*)*(\\.\\d*)*'\n",
    "money = r'\\d+(,\\d{3})*\\.*\\d*'\n",
    "word = rf'\\${money}(-|\\sto\\s)?({money})?\\s{amount}'\n",
    "number = rf'\\${money}'\n",
    "\n",
    "def word_to_value(word):\n",
    "    number_dict = {'thousand':1000, 'million': 1000000, 'billion': 1000000000}\n",
    "    return number_dict[word]\n",
    "\n",
    "def parse_number(string):\n",
    "    value = re.search(number, string).group().replace(',', '').replace('$', '')\n",
    "    return float(value)\n",
    "\n",
    "def parse_word(string):\n",
    "    value = re.search(number, string).group().replace(',', '').replace('$', '')\n",
    "    word = word_to_value(re.search(amount, string).group())\n",
    "    return float(value) * word\n",
    "\n",
    "def convert_money(string):\n",
    "    if string == 'N/A':\n",
    "        return None\n",
    "    if isinstance(string, list):\n",
    "        string = string[0]\n",
    "    if re.search(word, string):\n",
    "        return parse_word(string)\n",
    "    elif re.search(number, string):\n",
    "        return parse_number(string)\n",
    "    else:\n",
    "        return None\n",
    "    \n",
    "for movie in disney_movies:\n",
    "    movie['Budget (float)'] = convert_money(movie.get('Budget', 'N/A'))\n",
    "    movie['Box office (float)'] = convert_money(movie.get('Box office', 'N/A'))"
   ]
  },
  {
   "cell_type": "code",
   "execution_count": 13,
   "id": "645e0743",
   "metadata": {},
   "outputs": [
    {
     "data": {
      "text/plain": [
       "{'Title': 'One Hundred and One Dalmatians',\n",
       " 'Directed by': ['Wolfgang Reitherman', 'Clyde Geronimi', 'Hamilton Luske'],\n",
       " 'Story by': 'Bill Peet',\n",
       " 'Based on': 'The Hundred and One Dalmatians by Dodie Smith',\n",
       " 'Produced by': 'Walt Disney',\n",
       " 'Starring': ['Rod Taylor',\n",
       "  'Cate Bauer',\n",
       "  'Betty Lou Gerson',\n",
       "  'Ben Wright',\n",
       "  'Bill Lee (singing voice)',\n",
       "  'Lisa Davis',\n",
       "  'Martha Wentworth'],\n",
       " 'Edited by': ['Roy M. Brewer, Jr.', 'Donald Halliday'],\n",
       " 'Music by': 'George Bruns',\n",
       " 'Production company': 'Walt Disney Productions',\n",
       " 'Distributed by': 'Buena Vista Distribution',\n",
       " 'Release date': ['January 25, 1961'],\n",
       " 'Running time': '79 minutes',\n",
       " 'Country': 'United States',\n",
       " 'Language': 'English',\n",
       " 'Budget': '$3.6 million',\n",
       " 'Box office': '$303 million',\n",
       " 'Running time (int)': 79,\n",
       " 'Budget (float)': 3600000.0,\n",
       " 'Box office (float)': 303000000.0}"
      ]
     },
     "execution_count": 13,
     "metadata": {},
     "output_type": "execute_result"
    }
   ],
   "source": [
    "disney_movies[50]"
   ]
  },
  {
   "cell_type": "markdown",
   "id": "ef0058c4",
   "metadata": {},
   "source": [
    "### Convert 'Release date' & 'Release dates' to datatime object"
   ]
  },
  {
   "cell_type": "code",
   "execution_count": 57,
   "id": "90ca16cb",
   "metadata": {},
   "outputs": [],
   "source": [
    "def remove_parenthesis(string):\n",
    "    return string.split(\"(\")[0].strip()\n",
    "\n",
    "def convert_date(string):\n",
    "    if isinstance(string, list):\n",
    "        string = string[0]\n",
    "    if string == 'N/A':\n",
    "        return None\n",
    "    date = remove_parenthesis(string)\n",
    "    formats = ['%B %d, %Y', '%d %B, %Y']\n",
    "    for fmt in formats:\n",
    "        try:\n",
    "            return datetime.strptime(date, fmt)\n",
    "        except:\n",
    "            pass\n",
    "    return None\n",
    "    \n",
    "# for the key 'Release date'    \n",
    "for movie in disney_movies:\n",
    "    movie['Release date (datetime)'] = convert_date(movie.get('Release date', 'N/A'))\n",
    "    \n",
    "# for the key 'Release dates'\n",
    "for movie in disney_movies:\n",
    "    if movie['Release date (datetime)']:\n",
    "        pass\n",
    "    else:\n",
    "        movie['Release date (datetime)'] = convert_date(movie.get('Release dates', 'N/A'))"
   ]
  },
  {
   "cell_type": "code",
   "execution_count": 62,
   "id": "bcd8b06a",
   "metadata": {},
   "outputs": [
    {
     "data": {
      "text/plain": [
       "{'Title': 'One Hundred and One Dalmatians',\n",
       " 'Directed by': ['Wolfgang Reitherman', 'Clyde Geronimi', 'Hamilton Luske'],\n",
       " 'Story by': 'Bill Peet',\n",
       " 'Based on': 'The Hundred and One Dalmatians by Dodie Smith',\n",
       " 'Produced by': 'Walt Disney',\n",
       " 'Starring': ['Rod Taylor',\n",
       "  'Cate Bauer',\n",
       "  'Betty Lou Gerson',\n",
       "  'Ben Wright',\n",
       "  'Bill Lee (singing voice)',\n",
       "  'Lisa Davis',\n",
       "  'Martha Wentworth'],\n",
       " 'Edited by': ['Roy M. Brewer, Jr.', 'Donald Halliday'],\n",
       " 'Music by': 'George Bruns',\n",
       " 'Production company': 'Walt Disney Productions',\n",
       " 'Distributed by': 'Buena Vista Distribution',\n",
       " 'Release date': ['January 25, 1961'],\n",
       " 'Running time': '79 minutes',\n",
       " 'Country': 'United States',\n",
       " 'Language': 'English',\n",
       " 'Budget': '$3.6 million',\n",
       " 'Box office': '$303 million',\n",
       " 'Release date (datetime)': datetime.datetime(1961, 1, 25, 0, 0)}"
      ]
     },
     "execution_count": 62,
     "metadata": {},
     "output_type": "execute_result"
    }
   ],
   "source": [
    "disney_movies[50]"
   ]
  },
  {
   "cell_type": "markdown",
   "id": "50ec5837",
   "metadata": {},
   "source": [
    "### Save data into a .csv format"
   ]
  },
  {
   "cell_type": "code",
   "execution_count": 64,
   "id": "6c92e1e4",
   "metadata": {},
   "outputs": [],
   "source": [
    "df = pd.DataFrame(disney_movies)\n",
    "df.to_csv('disney_movie_data.csv')"
   ]
  }
 ],
 "metadata": {
  "kernelspec": {
   "display_name": "Python 3 (ipykernel)",
   "language": "python",
   "name": "python3"
  },
  "language_info": {
   "codemirror_mode": {
    "name": "ipython",
    "version": 3
   },
   "file_extension": ".py",
   "mimetype": "text/x-python",
   "name": "python",
   "nbconvert_exporter": "python",
   "pygments_lexer": "ipython3",
   "version": "3.9.7"
  }
 },
 "nbformat": 4,
 "nbformat_minor": 5
}
