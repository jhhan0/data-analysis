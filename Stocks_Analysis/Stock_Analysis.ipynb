{
 "cells": [
  {
   "cell_type": "markdown",
   "id": "f88055bf",
   "metadata": {},
   "source": [
    "# Stock Analysis Tutorial\n",
    "\n",
    "- Reference: https://excelsior-cjh.tistory.com/109\n",
    "- For learning Beautiful Soup Tutorial: https://www.youtube.com/watch?v=GjKQ6V_ViQE"
   ]
  },
  {
   "cell_type": "markdown",
   "id": "7c3284bf",
   "metadata": {},
   "source": [
    "### Import libraries"
   ]
  },
  {
   "cell_type": "code",
   "execution_count": 1,
   "id": "f3b9460f",
   "metadata": {},
   "outputs": [],
   "source": [
    "import pandas as pd\n",
    "from bs4 import BeautifulSoup as bs\n",
    "import requests\n",
    "from selenium import webdriver\n",
    "from selenium.webdriver.chrome.options import Options\n",
    "from selenium.webdriver.chrome.service import Service\n",
    "from webdriver_manager.chrome import ChromeDriverManager\n",
    "import plotly.offline as offline\n",
    "import plotly.graph_objects as go\n",
    "from plotly.subplots import make_subplots"
   ]
  },
  {
   "cell_type": "markdown",
   "id": "a638a5db",
   "metadata": {},
   "source": [
    "### Get the stock data from Korea Exchange (KRX)\n",
    "\n",
    "- https://kind.krx.co.kr/corpgeneral/corpList.do?method=loadInitPage"
   ]
  },
  {
   "cell_type": "code",
   "execution_count": 2,
   "id": "78d4929f",
   "metadata": {
    "scrolled": true
   },
   "outputs": [
    {
     "data": {
      "text/html": [
       "<div>\n",
       "<style scoped>\n",
       "    .dataframe tbody tr th:only-of-type {\n",
       "        vertical-align: middle;\n",
       "    }\n",
       "\n",
       "    .dataframe tbody tr th {\n",
       "        vertical-align: top;\n",
       "    }\n",
       "\n",
       "    .dataframe thead th {\n",
       "        text-align: right;\n",
       "    }\n",
       "</style>\n",
       "<table border=\"1\" class=\"dataframe\">\n",
       "  <thead>\n",
       "    <tr style=\"text-align: right;\">\n",
       "      <th></th>\n",
       "      <th>Name</th>\n",
       "      <th>Code</th>\n",
       "    </tr>\n",
       "  </thead>\n",
       "  <tbody>\n",
       "    <tr>\n",
       "      <th>0</th>\n",
       "      <td>상상인제3호스팩</td>\n",
       "      <td>415580</td>\n",
       "    </tr>\n",
       "    <tr>\n",
       "      <th>1</th>\n",
       "      <td>신영스팩7호</td>\n",
       "      <td>419270</td>\n",
       "    </tr>\n",
       "    <tr>\n",
       "      <th>2</th>\n",
       "      <td>포바이포</td>\n",
       "      <td>389140</td>\n",
       "    </tr>\n",
       "    <tr>\n",
       "      <th>3</th>\n",
       "      <td>신한제9호스팩</td>\n",
       "      <td>405640</td>\n",
       "    </tr>\n",
       "    <tr>\n",
       "      <th>4</th>\n",
       "      <td>미래에셋비전스팩1호</td>\n",
       "      <td>412930</td>\n",
       "    </tr>\n",
       "  </tbody>\n",
       "</table>\n",
       "</div>"
      ],
      "text/plain": [
       "         Name    Code\n",
       "0    상상인제3호스팩  415580\n",
       "1      신영스팩7호  419270\n",
       "2        포바이포  389140\n",
       "3     신한제9호스팩  405640\n",
       "4  미래에셋비전스팩1호  412930"
      ]
     },
     "execution_count": 2,
     "metadata": {},
     "output_type": "execute_result"
    }
   ],
   "source": [
    "# You should open 'stock_data.xls' file using pd.read_html() function\n",
    "stock_data = pd.read_html('stock_data.xls', converters={'종목코드':str})[0]\n",
    "stock_data = stock_data.iloc[:, :2]\n",
    "stock_data = stock_data.rename(columns={'회사명':'Name', '종목코드': 'Code'})\n",
    "stock_data.head()"
   ]
  },
  {
   "cell_type": "markdown",
   "id": "beb8de3e",
   "metadata": {},
   "source": [
    "### Get the table of daily stock price from NAVER Finance\n",
    "\n",
    "- https://finance.naver.com/"
   ]
  },
  {
   "cell_type": "code",
   "execution_count": 3,
   "id": "75735025",
   "metadata": {
    "scrolled": true
   },
   "outputs": [
    {
     "name": "stderr",
     "output_type": "stream",
     "text": [
      "\n",
      "\n",
      "====== WebDriver manager ======\n",
      "Current google-chrome version is 101.0.4951\n",
      "Get LATEST chromedriver version for 101.0.4951 google-chrome\n",
      "Driver [C:\\Users\\Ji Hun\\.wdm\\drivers\\chromedriver\\win32\\101.0.4951.41\\chromedriver.exe] found in cache\n"
     ]
    },
    {
     "data": {
      "text/html": [
       "<div>\n",
       "<style scoped>\n",
       "    .dataframe tbody tr th:only-of-type {\n",
       "        vertical-align: middle;\n",
       "    }\n",
       "\n",
       "    .dataframe tbody tr th {\n",
       "        vertical-align: top;\n",
       "    }\n",
       "\n",
       "    .dataframe thead th {\n",
       "        text-align: right;\n",
       "    }\n",
       "</style>\n",
       "<table border=\"1\" class=\"dataframe\">\n",
       "  <thead>\n",
       "    <tr style=\"text-align: right;\">\n",
       "      <th></th>\n",
       "      <th>Date</th>\n",
       "      <th>Closing Price</th>\n",
       "      <th>Change</th>\n",
       "      <th>Opening Price</th>\n",
       "      <th>Highest</th>\n",
       "      <th>Lowest</th>\n",
       "      <th>Volume</th>\n",
       "    </tr>\n",
       "  </thead>\n",
       "  <tbody>\n",
       "    <tr>\n",
       "      <th>0</th>\n",
       "      <td>2021-12-17</td>\n",
       "      <td>384500.0</td>\n",
       "      <td>3000.0</td>\n",
       "      <td>387000.0</td>\n",
       "      <td>387500.0</td>\n",
       "      <td>383500.0</td>\n",
       "      <td>505284.0</td>\n",
       "    </tr>\n",
       "    <tr>\n",
       "      <th>1</th>\n",
       "      <td>2021-12-20</td>\n",
       "      <td>373000.0</td>\n",
       "      <td>11500.0</td>\n",
       "      <td>381500.0</td>\n",
       "      <td>383000.0</td>\n",
       "      <td>373000.0</td>\n",
       "      <td>630690.0</td>\n",
       "    </tr>\n",
       "    <tr>\n",
       "      <th>2</th>\n",
       "      <td>2021-12-21</td>\n",
       "      <td>375000.0</td>\n",
       "      <td>2000.0</td>\n",
       "      <td>370000.0</td>\n",
       "      <td>379000.0</td>\n",
       "      <td>370000.0</td>\n",
       "      <td>480367.0</td>\n",
       "    </tr>\n",
       "    <tr>\n",
       "      <th>3</th>\n",
       "      <td>2021-12-22</td>\n",
       "      <td>378500.0</td>\n",
       "      <td>3500.0</td>\n",
       "      <td>376000.0</td>\n",
       "      <td>380000.0</td>\n",
       "      <td>375500.0</td>\n",
       "      <td>263513.0</td>\n",
       "    </tr>\n",
       "    <tr>\n",
       "      <th>4</th>\n",
       "      <td>2021-12-23</td>\n",
       "      <td>378000.0</td>\n",
       "      <td>500.0</td>\n",
       "      <td>379500.0</td>\n",
       "      <td>380500.0</td>\n",
       "      <td>374500.0</td>\n",
       "      <td>354342.0</td>\n",
       "    </tr>\n",
       "  </tbody>\n",
       "</table>\n",
       "</div>"
      ],
      "text/plain": [
       "        Date  Closing Price   Change  Opening Price   Highest    Lowest  \\\n",
       "0 2021-12-17       384500.0   3000.0       387000.0  387500.0  383500.0   \n",
       "1 2021-12-20       373000.0  11500.0       381500.0  383000.0  373000.0   \n",
       "2 2021-12-21       375000.0   2000.0       370000.0  379000.0  370000.0   \n",
       "3 2021-12-22       378500.0   3500.0       376000.0  380000.0  375500.0   \n",
       "4 2021-12-23       378000.0    500.0       379500.0  380500.0  374500.0   \n",
       "\n",
       "     Volume  \n",
       "0  505284.0  \n",
       "1  630690.0  \n",
       "2  480367.0  \n",
       "3  263513.0  \n",
       "4  354342.0  "
      ]
     },
     "execution_count": 3,
     "metadata": {},
     "output_type": "execute_result"
    }
   ],
   "source": [
    "# Define function that returns stock page url\n",
    "def find_stock_page_url(stock_name, stock_data):\n",
    "    stock_code = stock_data.loc[stock_data['Name'] == f'{stock_name}']['Code'].to_string(index=False)\n",
    "    url = f'https://finance.naver.com/item/sise.naver?code={stock_code}'\n",
    "    return url\n",
    "\n",
    "stock_name = 'NAVER'\n",
    "stock_page_url = find_stock_page_url(stock_name, stock_data)\n",
    "\n",
    "response = requests.get(stock_page_url)\n",
    "soup = bs(response.content, 'html.parser')\n",
    "iframe_src = soup.select('iframe[title=\"일별 시세\"]')[0].attrs['src']\n",
    "iframe_src_url = 'https://finance.naver.com' + iframe_src\n",
    "\n",
    "# Using selenium \n",
    "options = Options()\n",
    "options.add_argument('--headless')\n",
    "driver = webdriver.Chrome(service=Service(ChromeDriverManager().install()), options=options)\n",
    "driver.get(iframe_src_url)\n",
    "iframe_src_html = driver.page_source\n",
    "\n",
    "iframe_src_soup = bs(iframe_src_html)\n",
    "sise_page_list = iframe_src_soup.select('table.Nnavi a')[:10]\n",
    "\n",
    "sise_df = pd.DataFrame()\n",
    "\n",
    "for page in sise_page_list:\n",
    "    sise_page_url = 'https://finance.naver.com' + str(page['href'])\n",
    "    driver.get(sise_page_url)\n",
    "    sise_page_html = driver.page_source\n",
    "    sise_page_table = pd.read_html(sise_page_html, header=0)[0]\n",
    "    sise_page_table.dropna(how='any', inplace=True)\n",
    "    sise_df = sise_df.append(sise_page_table)\n",
    "\n",
    "sise_df = sise_df.rename(columns={'날짜':'Date', '종가':'Closing Price', '전일비':'Change', '시가':'Opening Price', '고가':'Highest', '저가':'Lowest', '거래량':'Volume'})\n",
    "sise_df[['Closing Price', 'Change', 'Opening Price', 'Highest', 'Lowest', 'Volume']] = sise_df[['Closing Price', 'Change', 'Opening Price', 'Highest', 'Lowest', 'Volume']].apply(pd.to_numeric)\n",
    "sise_df['Date'] = pd.to_datetime(sise_df['Date'])\n",
    "sise_df = sise_df.sort_values(by='Date', ascending=True, ignore_index=True)\n",
    "sise_df.head()"
   ]
  },
  {
   "cell_type": "markdown",
   "id": "57f917e5",
   "metadata": {},
   "source": [
    "### Plot OHLC chart of a stock using plotly\n",
    "\n",
    "- https://plotly.com/"
   ]
  },
  {
   "cell_type": "code",
   "execution_count": 4,
   "id": "6f98736c",
   "metadata": {},
   "outputs": [
    {
     "data": {
      "text/html": [
       "        <script type=\"text/javascript\">\n",
       "        window.PlotlyConfig = {MathJaxConfig: 'local'};\n",
       "        if (window.MathJax && window.MathJax.Hub && window.MathJax.Hub.Config) {window.MathJax.Hub.Config({SVG: {font: \"STIX-Web\"}});}\n",
       "        if (typeof require !== 'undefined') {\n",
       "        require.undef(\"plotly\");\n",
       "        requirejs.config({\n",
       "            paths: {\n",
       "                'plotly': ['https://cdn.plot.ly/plotly-2.12.1.min']\n",
       "            }\n",
       "        });\n",
       "        require(['plotly'], function(Plotly) {\n",
       "            window._Plotly = Plotly;\n",
       "        });\n",
       "        }\n",
       "        </script>\n",
       "        "
      ]
     },
     "metadata": {},
     "output_type": "display_data"
    },
    {
     "data": {
      "application/vnd.plotly.v1+json": {
       "config": {
        "plotlyServerURL": "https://plot.ly"
       },
       "data": [
        {
         "close": [
          384500,
          373000,
          375000,
          378500,
          378000,
          384000,
          380500,
          384500,
          382000,
          378500,
          376000,
          365500,
          355000,
          338500,
          338000,
          335000,
          335000,
          345500,
          348000,
          342000,
          343500,
          338000,
          332500,
          335000,
          333000,
          328500,
          322000,
          313000,
          303000,
          310000,
          320500,
          327500,
          327000,
          322000,
          326000,
          331500,
          327500,
          322000,
          318500,
          324500,
          324500,
          318000,
          318000,
          313000,
          309000,
          302500,
          314500,
          318000,
          317000,
          325500,
          317500,
          307000,
          304500,
          330500,
          329000,
          329000,
          327500,
          330500,
          344500,
          344500,
          339000,
          339500,
          345500,
          340000,
          333000,
          331500,
          334000,
          339000,
          340500,
          335500,
          338000,
          342500,
          330000,
          321000,
          316500,
          313000,
          308500,
          310500,
          313000,
          308500,
          306500,
          312000,
          315500,
          309500,
          300000,
          288500,
          287000,
          280500,
          280500,
          286500,
          281000,
          282000,
          282000,
          272000,
          275000,
          276000,
          279000,
          270000,
          274500,
          273500
         ],
         "high": [
          387500,
          383000,
          379000,
          380000,
          380500,
          388000,
          384500,
          385500,
          389000,
          382000,
          381000,
          376000,
          362000,
          349500,
          343500,
          339500,
          344500,
          352500,
          352000,
          342500,
          346500,
          348000,
          334000,
          336500,
          340500,
          334000,
          331500,
          321000,
          315500,
          311000,
          326000,
          329500,
          329000,
          329500,
          327000,
          337500,
          330500,
          327000,
          325500,
          325500,
          328000,
          320000,
          318500,
          313000,
          316500,
          306000,
          317500,
          318500,
          319500,
          327000,
          326000,
          309500,
          309500,
          337000,
          332000,
          338000,
          335000,
          334000,
          348000,
          346500,
          347500,
          341000,
          347500,
          342000,
          340000,
          332500,
          338000,
          342000,
          342000,
          340500,
          339000,
          343000,
          338000,
          328500,
          324500,
          313000,
          311000,
          311500,
          315500,
          314000,
          308000,
          314000,
          317000,
          311000,
          304000,
          295000,
          291500,
          282000,
          286000,
          287500,
          282500,
          284000,
          287000,
          275000,
          277000,
          277500,
          279000,
          276000,
          275000,
          279000
         ],
         "low": [
          383500,
          373000,
          370000,
          375500,
          374500,
          378000,
          380000,
          378000,
          382000,
          376000,
          375500,
          365000,
          352000,
          337500,
          337000,
          329000,
          334500,
          339500,
          344000,
          335500,
          339500,
          335500,
          328000,
          326500,
          330000,
          327500,
          318000,
          312000,
          303000,
          297000,
          320000,
          321000,
          320500,
          320000,
          322000,
          326500,
          323500,
          318000,
          316000,
          320000,
          319000,
          315500,
          308000,
          308000,
          308500,
          300000,
          305000,
          310500,
          312000,
          318500,
          317000,
          305000,
          301500,
          316000,
          323000,
          325000,
          326000,
          324000,
          337500,
          341500,
          336000,
          336000,
          341500,
          335000,
          332500,
          324000,
          332000,
          337000,
          338500,
          335500,
          332000,
          338000,
          329000,
          321000,
          311500,
          308000,
          305000,
          304000,
          308500,
          305500,
          305000,
          307500,
          312000,
          306000,
          299500,
          288000,
          285000,
          277000,
          278500,
          281500,
          279000,
          280000,
          279500,
          268000,
          269000,
          269000,
          273000,
          270000,
          269500,
          273000
         ],
         "name": "OHLC",
         "open": [
          387000,
          381500,
          370000,
          376000,
          379500,
          378000,
          384500,
          380000,
          389000,
          381000,
          379000,
          376000,
          362000,
          348500,
          338000,
          339000,
          336000,
          339500,
          348000,
          341000,
          340500,
          346500,
          330000,
          331000,
          330500,
          333000,
          329500,
          318500,
          307000,
          297000,
          325500,
          321500,
          328500,
          329000,
          324000,
          326500,
          326500,
          326000,
          325000,
          322500,
          325000,
          319500,
          311000,
          309500,
          316000,
          305000,
          308000,
          312000,
          319000,
          319000,
          325500,
          309000,
          302000,
          319000,
          330000,
          328500,
          328500,
          333500,
          337500,
          345000,
          347500,
          340000,
          343000,
          339500,
          339500,
          329500,
          334500,
          342000,
          341500,
          340000,
          335500,
          340500,
          336500,
          323000,
          322000,
          311000,
          306000,
          306000,
          311500,
          309000,
          306000,
          308000,
          315500,
          310500,
          302000,
          292500,
          288500,
          279500,
          286000,
          282500,
          281000,
          280500,
          282000,
          272500,
          269500,
          269000,
          273500,
          273500,
          272000,
          278000
         ],
         "type": "candlestick",
         "x": [
          "2021-12-17T00:00:00",
          "2021-12-20T00:00:00",
          "2021-12-21T00:00:00",
          "2021-12-22T00:00:00",
          "2021-12-23T00:00:00",
          "2021-12-24T00:00:00",
          "2021-12-27T00:00:00",
          "2021-12-28T00:00:00",
          "2021-12-29T00:00:00",
          "2021-12-30T00:00:00",
          "2022-01-03T00:00:00",
          "2022-01-04T00:00:00",
          "2022-01-05T00:00:00",
          "2022-01-06T00:00:00",
          "2022-01-07T00:00:00",
          "2022-01-10T00:00:00",
          "2022-01-11T00:00:00",
          "2022-01-12T00:00:00",
          "2022-01-13T00:00:00",
          "2022-01-14T00:00:00",
          "2022-01-17T00:00:00",
          "2022-01-18T00:00:00",
          "2022-01-19T00:00:00",
          "2022-01-20T00:00:00",
          "2022-01-21T00:00:00",
          "2022-01-24T00:00:00",
          "2022-01-25T00:00:00",
          "2022-01-26T00:00:00",
          "2022-01-27T00:00:00",
          "2022-01-28T00:00:00",
          "2022-02-03T00:00:00",
          "2022-02-04T00:00:00",
          "2022-02-07T00:00:00",
          "2022-02-08T00:00:00",
          "2022-02-09T00:00:00",
          "2022-02-10T00:00:00",
          "2022-02-11T00:00:00",
          "2022-02-14T00:00:00",
          "2022-02-15T00:00:00",
          "2022-02-16T00:00:00",
          "2022-02-17T00:00:00",
          "2022-02-18T00:00:00",
          "2022-02-21T00:00:00",
          "2022-02-22T00:00:00",
          "2022-02-23T00:00:00",
          "2022-02-24T00:00:00",
          "2022-02-25T00:00:00",
          "2022-02-28T00:00:00",
          "2022-03-02T00:00:00",
          "2022-03-03T00:00:00",
          "2022-03-04T00:00:00",
          "2022-03-07T00:00:00",
          "2022-03-08T00:00:00",
          "2022-03-10T00:00:00",
          "2022-03-11T00:00:00",
          "2022-03-14T00:00:00",
          "2022-03-15T00:00:00",
          "2022-03-16T00:00:00",
          "2022-03-17T00:00:00",
          "2022-03-18T00:00:00",
          "2022-03-21T00:00:00",
          "2022-03-22T00:00:00",
          "2022-03-23T00:00:00",
          "2022-03-24T00:00:00",
          "2022-03-25T00:00:00",
          "2022-03-28T00:00:00",
          "2022-03-29T00:00:00",
          "2022-03-30T00:00:00",
          "2022-03-31T00:00:00",
          "2022-04-01T00:00:00",
          "2022-04-04T00:00:00",
          "2022-04-05T00:00:00",
          "2022-04-06T00:00:00",
          "2022-04-07T00:00:00",
          "2022-04-08T00:00:00",
          "2022-04-11T00:00:00",
          "2022-04-12T00:00:00",
          "2022-04-13T00:00:00",
          "2022-04-14T00:00:00",
          "2022-04-15T00:00:00",
          "2022-04-18T00:00:00",
          "2022-04-19T00:00:00",
          "2022-04-20T00:00:00",
          "2022-04-21T00:00:00",
          "2022-04-22T00:00:00",
          "2022-04-25T00:00:00",
          "2022-04-26T00:00:00",
          "2022-04-27T00:00:00",
          "2022-04-28T00:00:00",
          "2022-04-29T00:00:00",
          "2022-05-02T00:00:00",
          "2022-05-03T00:00:00",
          "2022-05-04T00:00:00",
          "2022-05-06T00:00:00",
          "2022-05-09T00:00:00",
          "2022-05-10T00:00:00",
          "2022-05-11T00:00:00",
          "2022-05-12T00:00:00",
          "2022-05-13T00:00:00",
          "2022-05-16T00:00:00"
         ],
         "xaxis": "x",
         "yaxis": "y"
        },
        {
         "showlegend": false,
         "type": "bar",
         "x": [
          "2021-12-17T00:00:00",
          "2021-12-20T00:00:00",
          "2021-12-21T00:00:00",
          "2021-12-22T00:00:00",
          "2021-12-23T00:00:00",
          "2021-12-24T00:00:00",
          "2021-12-27T00:00:00",
          "2021-12-28T00:00:00",
          "2021-12-29T00:00:00",
          "2021-12-30T00:00:00",
          "2022-01-03T00:00:00",
          "2022-01-04T00:00:00",
          "2022-01-05T00:00:00",
          "2022-01-06T00:00:00",
          "2022-01-07T00:00:00",
          "2022-01-10T00:00:00",
          "2022-01-11T00:00:00",
          "2022-01-12T00:00:00",
          "2022-01-13T00:00:00",
          "2022-01-14T00:00:00",
          "2022-01-17T00:00:00",
          "2022-01-18T00:00:00",
          "2022-01-19T00:00:00",
          "2022-01-20T00:00:00",
          "2022-01-21T00:00:00",
          "2022-01-24T00:00:00",
          "2022-01-25T00:00:00",
          "2022-01-26T00:00:00",
          "2022-01-27T00:00:00",
          "2022-01-28T00:00:00",
          "2022-02-03T00:00:00",
          "2022-02-04T00:00:00",
          "2022-02-07T00:00:00",
          "2022-02-08T00:00:00",
          "2022-02-09T00:00:00",
          "2022-02-10T00:00:00",
          "2022-02-11T00:00:00",
          "2022-02-14T00:00:00",
          "2022-02-15T00:00:00",
          "2022-02-16T00:00:00",
          "2022-02-17T00:00:00",
          "2022-02-18T00:00:00",
          "2022-02-21T00:00:00",
          "2022-02-22T00:00:00",
          "2022-02-23T00:00:00",
          "2022-02-24T00:00:00",
          "2022-02-25T00:00:00",
          "2022-02-28T00:00:00",
          "2022-03-02T00:00:00",
          "2022-03-03T00:00:00",
          "2022-03-04T00:00:00",
          "2022-03-07T00:00:00",
          "2022-03-08T00:00:00",
          "2022-03-10T00:00:00",
          "2022-03-11T00:00:00",
          "2022-03-14T00:00:00",
          "2022-03-15T00:00:00",
          "2022-03-16T00:00:00",
          "2022-03-17T00:00:00",
          "2022-03-18T00:00:00",
          "2022-03-21T00:00:00",
          "2022-03-22T00:00:00",
          "2022-03-23T00:00:00",
          "2022-03-24T00:00:00",
          "2022-03-25T00:00:00",
          "2022-03-28T00:00:00",
          "2022-03-29T00:00:00",
          "2022-03-30T00:00:00",
          "2022-03-31T00:00:00",
          "2022-04-01T00:00:00",
          "2022-04-04T00:00:00",
          "2022-04-05T00:00:00",
          "2022-04-06T00:00:00",
          "2022-04-07T00:00:00",
          "2022-04-08T00:00:00",
          "2022-04-11T00:00:00",
          "2022-04-12T00:00:00",
          "2022-04-13T00:00:00",
          "2022-04-14T00:00:00",
          "2022-04-15T00:00:00",
          "2022-04-18T00:00:00",
          "2022-04-19T00:00:00",
          "2022-04-20T00:00:00",
          "2022-04-21T00:00:00",
          "2022-04-22T00:00:00",
          "2022-04-25T00:00:00",
          "2022-04-26T00:00:00",
          "2022-04-27T00:00:00",
          "2022-04-28T00:00:00",
          "2022-04-29T00:00:00",
          "2022-05-02T00:00:00",
          "2022-05-03T00:00:00",
          "2022-05-04T00:00:00",
          "2022-05-06T00:00:00",
          "2022-05-09T00:00:00",
          "2022-05-10T00:00:00",
          "2022-05-11T00:00:00",
          "2022-05-12T00:00:00",
          "2022-05-13T00:00:00",
          "2022-05-16T00:00:00"
         ],
         "xaxis": "x2",
         "y": [
          505284,
          630690,
          480367,
          263513,
          354342,
          412695,
          226757,
          551228,
          352409,
          369314,
          378920,
          803676,
          1151703,
          1280916,
          787839,
          828611,
          805084,
          1047713,
          677226,
          504907,
          418789,
          441573,
          749338,
          695553,
          580928,
          494977,
          799996,
          811297,
          949565,
          974351,
          884438,
          548945,
          492656,
          427530,
          377538,
          701866,
          450896,
          424845,
          335584,
          447832,
          481773,
          549382,
          550016,
          484404,
          443348,
          666538,
          857872,
          542469,
          546099,
          580888,
          445607,
          535033,
          559921,
          1521280,
          737003,
          679812,
          627012,
          584708,
          1070200,
          722326,
          398441,
          301259,
          504911,
          528012,
          559026,
          356589,
          323767,
          454373,
          427064,
          446987,
          283687,
          389951,
          647201,
          493204,
          626173,
          507362,
          467984,
          519629,
          459979,
          369642,
          209787,
          371024,
          496286,
          803990,
          1166406,
          823308,
          804555,
          875090,
          547958,
          540274,
          509250,
          419535,
          394212,
          787063,
          538607,
          732705,
          473201,
          611860,
          474153,
          384475
         ],
         "yaxis": "y2"
        }
       ],
       "layout": {
        "annotations": [
         {
          "font": {
           "size": 16
          },
          "showarrow": false,
          "text": "NAVER",
          "x": 0.5,
          "xanchor": "center",
          "xref": "paper",
          "y": 1,
          "yanchor": "bottom",
          "yref": "paper"
         },
         {
          "font": {
           "size": 16
          },
          "showarrow": false,
          "text": "Volume",
          "x": 0.5,
          "xanchor": "center",
          "xref": "paper",
          "y": 0.20000000000000004,
          "yanchor": "bottom",
          "yref": "paper"
         }
        ],
        "template": {
         "data": {
          "bar": [
           {
            "error_x": {
             "color": "#2a3f5f"
            },
            "error_y": {
             "color": "#2a3f5f"
            },
            "marker": {
             "line": {
              "color": "#E5ECF6",
              "width": 0.5
             },
             "pattern": {
              "fillmode": "overlay",
              "size": 10,
              "solidity": 0.2
             }
            },
            "type": "bar"
           }
          ],
          "barpolar": [
           {
            "marker": {
             "line": {
              "color": "#E5ECF6",
              "width": 0.5
             },
             "pattern": {
              "fillmode": "overlay",
              "size": 10,
              "solidity": 0.2
             }
            },
            "type": "barpolar"
           }
          ],
          "carpet": [
           {
            "aaxis": {
             "endlinecolor": "#2a3f5f",
             "gridcolor": "white",
             "linecolor": "white",
             "minorgridcolor": "white",
             "startlinecolor": "#2a3f5f"
            },
            "baxis": {
             "endlinecolor": "#2a3f5f",
             "gridcolor": "white",
             "linecolor": "white",
             "minorgridcolor": "white",
             "startlinecolor": "#2a3f5f"
            },
            "type": "carpet"
           }
          ],
          "choropleth": [
           {
            "colorbar": {
             "outlinewidth": 0,
             "ticks": ""
            },
            "type": "choropleth"
           }
          ],
          "contour": [
           {
            "colorbar": {
             "outlinewidth": 0,
             "ticks": ""
            },
            "colorscale": [
             [
              0,
              "#0d0887"
             ],
             [
              0.1111111111111111,
              "#46039f"
             ],
             [
              0.2222222222222222,
              "#7201a8"
             ],
             [
              0.3333333333333333,
              "#9c179e"
             ],
             [
              0.4444444444444444,
              "#bd3786"
             ],
             [
              0.5555555555555556,
              "#d8576b"
             ],
             [
              0.6666666666666666,
              "#ed7953"
             ],
             [
              0.7777777777777778,
              "#fb9f3a"
             ],
             [
              0.8888888888888888,
              "#fdca26"
             ],
             [
              1,
              "#f0f921"
             ]
            ],
            "type": "contour"
           }
          ],
          "contourcarpet": [
           {
            "colorbar": {
             "outlinewidth": 0,
             "ticks": ""
            },
            "type": "contourcarpet"
           }
          ],
          "heatmap": [
           {
            "colorbar": {
             "outlinewidth": 0,
             "ticks": ""
            },
            "colorscale": [
             [
              0,
              "#0d0887"
             ],
             [
              0.1111111111111111,
              "#46039f"
             ],
             [
              0.2222222222222222,
              "#7201a8"
             ],
             [
              0.3333333333333333,
              "#9c179e"
             ],
             [
              0.4444444444444444,
              "#bd3786"
             ],
             [
              0.5555555555555556,
              "#d8576b"
             ],
             [
              0.6666666666666666,
              "#ed7953"
             ],
             [
              0.7777777777777778,
              "#fb9f3a"
             ],
             [
              0.8888888888888888,
              "#fdca26"
             ],
             [
              1,
              "#f0f921"
             ]
            ],
            "type": "heatmap"
           }
          ],
          "heatmapgl": [
           {
            "colorbar": {
             "outlinewidth": 0,
             "ticks": ""
            },
            "colorscale": [
             [
              0,
              "#0d0887"
             ],
             [
              0.1111111111111111,
              "#46039f"
             ],
             [
              0.2222222222222222,
              "#7201a8"
             ],
             [
              0.3333333333333333,
              "#9c179e"
             ],
             [
              0.4444444444444444,
              "#bd3786"
             ],
             [
              0.5555555555555556,
              "#d8576b"
             ],
             [
              0.6666666666666666,
              "#ed7953"
             ],
             [
              0.7777777777777778,
              "#fb9f3a"
             ],
             [
              0.8888888888888888,
              "#fdca26"
             ],
             [
              1,
              "#f0f921"
             ]
            ],
            "type": "heatmapgl"
           }
          ],
          "histogram": [
           {
            "marker": {
             "pattern": {
              "fillmode": "overlay",
              "size": 10,
              "solidity": 0.2
             }
            },
            "type": "histogram"
           }
          ],
          "histogram2d": [
           {
            "colorbar": {
             "outlinewidth": 0,
             "ticks": ""
            },
            "colorscale": [
             [
              0,
              "#0d0887"
             ],
             [
              0.1111111111111111,
              "#46039f"
             ],
             [
              0.2222222222222222,
              "#7201a8"
             ],
             [
              0.3333333333333333,
              "#9c179e"
             ],
             [
              0.4444444444444444,
              "#bd3786"
             ],
             [
              0.5555555555555556,
              "#d8576b"
             ],
             [
              0.6666666666666666,
              "#ed7953"
             ],
             [
              0.7777777777777778,
              "#fb9f3a"
             ],
             [
              0.8888888888888888,
              "#fdca26"
             ],
             [
              1,
              "#f0f921"
             ]
            ],
            "type": "histogram2d"
           }
          ],
          "histogram2dcontour": [
           {
            "colorbar": {
             "outlinewidth": 0,
             "ticks": ""
            },
            "colorscale": [
             [
              0,
              "#0d0887"
             ],
             [
              0.1111111111111111,
              "#46039f"
             ],
             [
              0.2222222222222222,
              "#7201a8"
             ],
             [
              0.3333333333333333,
              "#9c179e"
             ],
             [
              0.4444444444444444,
              "#bd3786"
             ],
             [
              0.5555555555555556,
              "#d8576b"
             ],
             [
              0.6666666666666666,
              "#ed7953"
             ],
             [
              0.7777777777777778,
              "#fb9f3a"
             ],
             [
              0.8888888888888888,
              "#fdca26"
             ],
             [
              1,
              "#f0f921"
             ]
            ],
            "type": "histogram2dcontour"
           }
          ],
          "mesh3d": [
           {
            "colorbar": {
             "outlinewidth": 0,
             "ticks": ""
            },
            "type": "mesh3d"
           }
          ],
          "parcoords": [
           {
            "line": {
             "colorbar": {
              "outlinewidth": 0,
              "ticks": ""
             }
            },
            "type": "parcoords"
           }
          ],
          "pie": [
           {
            "automargin": true,
            "type": "pie"
           }
          ],
          "scatter": [
           {
            "fillpattern": {
             "fillmode": "overlay",
             "size": 10,
             "solidity": 0.2
            },
            "type": "scatter"
           }
          ],
          "scatter3d": [
           {
            "line": {
             "colorbar": {
              "outlinewidth": 0,
              "ticks": ""
             }
            },
            "marker": {
             "colorbar": {
              "outlinewidth": 0,
              "ticks": ""
             }
            },
            "type": "scatter3d"
           }
          ],
          "scattercarpet": [
           {
            "marker": {
             "colorbar": {
              "outlinewidth": 0,
              "ticks": ""
             }
            },
            "type": "scattercarpet"
           }
          ],
          "scattergeo": [
           {
            "marker": {
             "colorbar": {
              "outlinewidth": 0,
              "ticks": ""
             }
            },
            "type": "scattergeo"
           }
          ],
          "scattergl": [
           {
            "marker": {
             "colorbar": {
              "outlinewidth": 0,
              "ticks": ""
             }
            },
            "type": "scattergl"
           }
          ],
          "scattermapbox": [
           {
            "marker": {
             "colorbar": {
              "outlinewidth": 0,
              "ticks": ""
             }
            },
            "type": "scattermapbox"
           }
          ],
          "scatterpolar": [
           {
            "marker": {
             "colorbar": {
              "outlinewidth": 0,
              "ticks": ""
             }
            },
            "type": "scatterpolar"
           }
          ],
          "scatterpolargl": [
           {
            "marker": {
             "colorbar": {
              "outlinewidth": 0,
              "ticks": ""
             }
            },
            "type": "scatterpolargl"
           }
          ],
          "scatterternary": [
           {
            "marker": {
             "colorbar": {
              "outlinewidth": 0,
              "ticks": ""
             }
            },
            "type": "scatterternary"
           }
          ],
          "surface": [
           {
            "colorbar": {
             "outlinewidth": 0,
             "ticks": ""
            },
            "colorscale": [
             [
              0,
              "#0d0887"
             ],
             [
              0.1111111111111111,
              "#46039f"
             ],
             [
              0.2222222222222222,
              "#7201a8"
             ],
             [
              0.3333333333333333,
              "#9c179e"
             ],
             [
              0.4444444444444444,
              "#bd3786"
             ],
             [
              0.5555555555555556,
              "#d8576b"
             ],
             [
              0.6666666666666666,
              "#ed7953"
             ],
             [
              0.7777777777777778,
              "#fb9f3a"
             ],
             [
              0.8888888888888888,
              "#fdca26"
             ],
             [
              1,
              "#f0f921"
             ]
            ],
            "type": "surface"
           }
          ],
          "table": [
           {
            "cells": {
             "fill": {
              "color": "#EBF0F8"
             },
             "line": {
              "color": "white"
             }
            },
            "header": {
             "fill": {
              "color": "#C8D4E3"
             },
             "line": {
              "color": "white"
             }
            },
            "type": "table"
           }
          ]
         },
         "layout": {
          "annotationdefaults": {
           "arrowcolor": "#2a3f5f",
           "arrowhead": 0,
           "arrowwidth": 1
          },
          "autotypenumbers": "strict",
          "coloraxis": {
           "colorbar": {
            "outlinewidth": 0,
            "ticks": ""
           }
          },
          "colorscale": {
           "diverging": [
            [
             0,
             "#8e0152"
            ],
            [
             0.1,
             "#c51b7d"
            ],
            [
             0.2,
             "#de77ae"
            ],
            [
             0.3,
             "#f1b6da"
            ],
            [
             0.4,
             "#fde0ef"
            ],
            [
             0.5,
             "#f7f7f7"
            ],
            [
             0.6,
             "#e6f5d0"
            ],
            [
             0.7,
             "#b8e186"
            ],
            [
             0.8,
             "#7fbc41"
            ],
            [
             0.9,
             "#4d9221"
            ],
            [
             1,
             "#276419"
            ]
           ],
           "sequential": [
            [
             0,
             "#0d0887"
            ],
            [
             0.1111111111111111,
             "#46039f"
            ],
            [
             0.2222222222222222,
             "#7201a8"
            ],
            [
             0.3333333333333333,
             "#9c179e"
            ],
            [
             0.4444444444444444,
             "#bd3786"
            ],
            [
             0.5555555555555556,
             "#d8576b"
            ],
            [
             0.6666666666666666,
             "#ed7953"
            ],
            [
             0.7777777777777778,
             "#fb9f3a"
            ],
            [
             0.8888888888888888,
             "#fdca26"
            ],
            [
             1,
             "#f0f921"
            ]
           ],
           "sequentialminus": [
            [
             0,
             "#0d0887"
            ],
            [
             0.1111111111111111,
             "#46039f"
            ],
            [
             0.2222222222222222,
             "#7201a8"
            ],
            [
             0.3333333333333333,
             "#9c179e"
            ],
            [
             0.4444444444444444,
             "#bd3786"
            ],
            [
             0.5555555555555556,
             "#d8576b"
            ],
            [
             0.6666666666666666,
             "#ed7953"
            ],
            [
             0.7777777777777778,
             "#fb9f3a"
            ],
            [
             0.8888888888888888,
             "#fdca26"
            ],
            [
             1,
             "#f0f921"
            ]
           ]
          },
          "colorway": [
           "#636efa",
           "#EF553B",
           "#00cc96",
           "#ab63fa",
           "#FFA15A",
           "#19d3f3",
           "#FF6692",
           "#B6E880",
           "#FF97FF",
           "#FECB52"
          ],
          "font": {
           "color": "#2a3f5f"
          },
          "geo": {
           "bgcolor": "white",
           "lakecolor": "white",
           "landcolor": "#E5ECF6",
           "showlakes": true,
           "showland": true,
           "subunitcolor": "white"
          },
          "hoverlabel": {
           "align": "left"
          },
          "hovermode": "closest",
          "mapbox": {
           "style": "light"
          },
          "paper_bgcolor": "white",
          "plot_bgcolor": "#E5ECF6",
          "polar": {
           "angularaxis": {
            "gridcolor": "white",
            "linecolor": "white",
            "ticks": ""
           },
           "bgcolor": "#E5ECF6",
           "radialaxis": {
            "gridcolor": "white",
            "linecolor": "white",
            "ticks": ""
           }
          },
          "scene": {
           "xaxis": {
            "backgroundcolor": "#E5ECF6",
            "gridcolor": "white",
            "gridwidth": 2,
            "linecolor": "white",
            "showbackground": true,
            "ticks": "",
            "zerolinecolor": "white"
           },
           "yaxis": {
            "backgroundcolor": "#E5ECF6",
            "gridcolor": "white",
            "gridwidth": 2,
            "linecolor": "white",
            "showbackground": true,
            "ticks": "",
            "zerolinecolor": "white"
           },
           "zaxis": {
            "backgroundcolor": "#E5ECF6",
            "gridcolor": "white",
            "gridwidth": 2,
            "linecolor": "white",
            "showbackground": true,
            "ticks": "",
            "zerolinecolor": "white"
           }
          },
          "shapedefaults": {
           "line": {
            "color": "#2a3f5f"
           }
          },
          "ternary": {
           "aaxis": {
            "gridcolor": "white",
            "linecolor": "white",
            "ticks": ""
           },
           "baxis": {
            "gridcolor": "white",
            "linecolor": "white",
            "ticks": ""
           },
           "bgcolor": "#E5ECF6",
           "caxis": {
            "gridcolor": "white",
            "linecolor": "white",
            "ticks": ""
           }
          },
          "title": {
           "x": 0.05
          },
          "xaxis": {
           "automargin": true,
           "gridcolor": "white",
           "linecolor": "white",
           "ticks": "",
           "title": {
            "standoff": 15
           },
           "zerolinecolor": "white",
           "zerolinewidth": 2
          },
          "yaxis": {
           "automargin": true,
           "gridcolor": "white",
           "linecolor": "white",
           "ticks": "",
           "title": {
            "standoff": 15
           },
           "zerolinecolor": "white",
           "zerolinewidth": 2
          }
         }
        },
        "xaxis": {
         "anchor": "y",
         "domain": [
          0,
          1
         ],
         "matches": "x2",
         "rangebreaks": [
          {
           "bounds": [
            "sat",
            "mon"
           ]
          },
          {
           "values": [
            "2021-01-01",
            "2021-02-11",
            "2021-02-12",
            "2021-03-01",
            "2021-05-05",
            "2021-05-19",
            "2021-08-16",
            "2021-09-20",
            "2021-09-21",
            "2021-09-22",
            "2021-10-04",
            "2021-10-11",
            "2021-12-31",
            "2022-01-31",
            "2022-02-01",
            "2022-02-02",
            "2022-03-01",
            "2022-03-09",
            "2022-05-05",
            "2022-06-01",
            "2022-06-06",
            "2022-08-15",
            "2022-09-09",
            "2022-09-12",
            "2022-10-03",
            "2022-10-10",
            "2022-12-30"
           ]
          }
         ],
         "rangeslider": {
          "visible": false
         },
         "showticklabels": false
        },
        "xaxis2": {
         "anchor": "y2",
         "domain": [
          0,
          1
         ],
         "rangebreaks": [
          {
           "bounds": [
            "sat",
            "mon"
           ]
          },
          {
           "values": [
            "2021-01-01",
            "2021-02-11",
            "2021-02-12",
            "2021-03-01",
            "2021-05-05",
            "2021-05-19",
            "2021-08-16",
            "2021-09-20",
            "2021-09-21",
            "2021-09-22",
            "2021-10-04",
            "2021-10-11",
            "2021-12-31",
            "2022-01-31",
            "2022-02-01",
            "2022-02-02",
            "2022-03-01",
            "2022-03-09",
            "2022-05-05",
            "2022-06-01",
            "2022-06-06",
            "2022-08-15",
            "2022-09-09",
            "2022-09-12",
            "2022-10-03",
            "2022-10-10",
            "2022-12-30"
           ]
          }
         ]
        },
        "yaxis": {
         "anchor": "x",
         "domain": [
          0.30000000000000004,
          1
         ]
        },
        "yaxis2": {
         "anchor": "x2",
         "domain": [
          0,
          0.20000000000000004
         ]
        }
       }
      },
      "text/html": [
       "<div>                            <div id=\"ecab9cb2-d114-4afa-8d53-067b8162bde5\" class=\"plotly-graph-div\" style=\"height:525px; width:100%;\"></div>            <script type=\"text/javascript\">                require([\"plotly\"], function(Plotly) {                    window.PLOTLYENV=window.PLOTLYENV || {};                                    if (document.getElementById(\"ecab9cb2-d114-4afa-8d53-067b8162bde5\")) {                    Plotly.newPlot(                        \"ecab9cb2-d114-4afa-8d53-067b8162bde5\",                        [{\"close\":[384500.0,373000.0,375000.0,378500.0,378000.0,384000.0,380500.0,384500.0,382000.0,378500.0,376000.0,365500.0,355000.0,338500.0,338000.0,335000.0,335000.0,345500.0,348000.0,342000.0,343500.0,338000.0,332500.0,335000.0,333000.0,328500.0,322000.0,313000.0,303000.0,310000.0,320500.0,327500.0,327000.0,322000.0,326000.0,331500.0,327500.0,322000.0,318500.0,324500.0,324500.0,318000.0,318000.0,313000.0,309000.0,302500.0,314500.0,318000.0,317000.0,325500.0,317500.0,307000.0,304500.0,330500.0,329000.0,329000.0,327500.0,330500.0,344500.0,344500.0,339000.0,339500.0,345500.0,340000.0,333000.0,331500.0,334000.0,339000.0,340500.0,335500.0,338000.0,342500.0,330000.0,321000.0,316500.0,313000.0,308500.0,310500.0,313000.0,308500.0,306500.0,312000.0,315500.0,309500.0,300000.0,288500.0,287000.0,280500.0,280500.0,286500.0,281000.0,282000.0,282000.0,272000.0,275000.0,276000.0,279000.0,270000.0,274500.0,273500.0],\"high\":[387500.0,383000.0,379000.0,380000.0,380500.0,388000.0,384500.0,385500.0,389000.0,382000.0,381000.0,376000.0,362000.0,349500.0,343500.0,339500.0,344500.0,352500.0,352000.0,342500.0,346500.0,348000.0,334000.0,336500.0,340500.0,334000.0,331500.0,321000.0,315500.0,311000.0,326000.0,329500.0,329000.0,329500.0,327000.0,337500.0,330500.0,327000.0,325500.0,325500.0,328000.0,320000.0,318500.0,313000.0,316500.0,306000.0,317500.0,318500.0,319500.0,327000.0,326000.0,309500.0,309500.0,337000.0,332000.0,338000.0,335000.0,334000.0,348000.0,346500.0,347500.0,341000.0,347500.0,342000.0,340000.0,332500.0,338000.0,342000.0,342000.0,340500.0,339000.0,343000.0,338000.0,328500.0,324500.0,313000.0,311000.0,311500.0,315500.0,314000.0,308000.0,314000.0,317000.0,311000.0,304000.0,295000.0,291500.0,282000.0,286000.0,287500.0,282500.0,284000.0,287000.0,275000.0,277000.0,277500.0,279000.0,276000.0,275000.0,279000.0],\"low\":[383500.0,373000.0,370000.0,375500.0,374500.0,378000.0,380000.0,378000.0,382000.0,376000.0,375500.0,365000.0,352000.0,337500.0,337000.0,329000.0,334500.0,339500.0,344000.0,335500.0,339500.0,335500.0,328000.0,326500.0,330000.0,327500.0,318000.0,312000.0,303000.0,297000.0,320000.0,321000.0,320500.0,320000.0,322000.0,326500.0,323500.0,318000.0,316000.0,320000.0,319000.0,315500.0,308000.0,308000.0,308500.0,300000.0,305000.0,310500.0,312000.0,318500.0,317000.0,305000.0,301500.0,316000.0,323000.0,325000.0,326000.0,324000.0,337500.0,341500.0,336000.0,336000.0,341500.0,335000.0,332500.0,324000.0,332000.0,337000.0,338500.0,335500.0,332000.0,338000.0,329000.0,321000.0,311500.0,308000.0,305000.0,304000.0,308500.0,305500.0,305000.0,307500.0,312000.0,306000.0,299500.0,288000.0,285000.0,277000.0,278500.0,281500.0,279000.0,280000.0,279500.0,268000.0,269000.0,269000.0,273000.0,270000.0,269500.0,273000.0],\"name\":\"OHLC\",\"open\":[387000.0,381500.0,370000.0,376000.0,379500.0,378000.0,384500.0,380000.0,389000.0,381000.0,379000.0,376000.0,362000.0,348500.0,338000.0,339000.0,336000.0,339500.0,348000.0,341000.0,340500.0,346500.0,330000.0,331000.0,330500.0,333000.0,329500.0,318500.0,307000.0,297000.0,325500.0,321500.0,328500.0,329000.0,324000.0,326500.0,326500.0,326000.0,325000.0,322500.0,325000.0,319500.0,311000.0,309500.0,316000.0,305000.0,308000.0,312000.0,319000.0,319000.0,325500.0,309000.0,302000.0,319000.0,330000.0,328500.0,328500.0,333500.0,337500.0,345000.0,347500.0,340000.0,343000.0,339500.0,339500.0,329500.0,334500.0,342000.0,341500.0,340000.0,335500.0,340500.0,336500.0,323000.0,322000.0,311000.0,306000.0,306000.0,311500.0,309000.0,306000.0,308000.0,315500.0,310500.0,302000.0,292500.0,288500.0,279500.0,286000.0,282500.0,281000.0,280500.0,282000.0,272500.0,269500.0,269000.0,273500.0,273500.0,272000.0,278000.0],\"x\":[\"2021-12-17T00:00:00\",\"2021-12-20T00:00:00\",\"2021-12-21T00:00:00\",\"2021-12-22T00:00:00\",\"2021-12-23T00:00:00\",\"2021-12-24T00:00:00\",\"2021-12-27T00:00:00\",\"2021-12-28T00:00:00\",\"2021-12-29T00:00:00\",\"2021-12-30T00:00:00\",\"2022-01-03T00:00:00\",\"2022-01-04T00:00:00\",\"2022-01-05T00:00:00\",\"2022-01-06T00:00:00\",\"2022-01-07T00:00:00\",\"2022-01-10T00:00:00\",\"2022-01-11T00:00:00\",\"2022-01-12T00:00:00\",\"2022-01-13T00:00:00\",\"2022-01-14T00:00:00\",\"2022-01-17T00:00:00\",\"2022-01-18T00:00:00\",\"2022-01-19T00:00:00\",\"2022-01-20T00:00:00\",\"2022-01-21T00:00:00\",\"2022-01-24T00:00:00\",\"2022-01-25T00:00:00\",\"2022-01-26T00:00:00\",\"2022-01-27T00:00:00\",\"2022-01-28T00:00:00\",\"2022-02-03T00:00:00\",\"2022-02-04T00:00:00\",\"2022-02-07T00:00:00\",\"2022-02-08T00:00:00\",\"2022-02-09T00:00:00\",\"2022-02-10T00:00:00\",\"2022-02-11T00:00:00\",\"2022-02-14T00:00:00\",\"2022-02-15T00:00:00\",\"2022-02-16T00:00:00\",\"2022-02-17T00:00:00\",\"2022-02-18T00:00:00\",\"2022-02-21T00:00:00\",\"2022-02-22T00:00:00\",\"2022-02-23T00:00:00\",\"2022-02-24T00:00:00\",\"2022-02-25T00:00:00\",\"2022-02-28T00:00:00\",\"2022-03-02T00:00:00\",\"2022-03-03T00:00:00\",\"2022-03-04T00:00:00\",\"2022-03-07T00:00:00\",\"2022-03-08T00:00:00\",\"2022-03-10T00:00:00\",\"2022-03-11T00:00:00\",\"2022-03-14T00:00:00\",\"2022-03-15T00:00:00\",\"2022-03-16T00:00:00\",\"2022-03-17T00:00:00\",\"2022-03-18T00:00:00\",\"2022-03-21T00:00:00\",\"2022-03-22T00:00:00\",\"2022-03-23T00:00:00\",\"2022-03-24T00:00:00\",\"2022-03-25T00:00:00\",\"2022-03-28T00:00:00\",\"2022-03-29T00:00:00\",\"2022-03-30T00:00:00\",\"2022-03-31T00:00:00\",\"2022-04-01T00:00:00\",\"2022-04-04T00:00:00\",\"2022-04-05T00:00:00\",\"2022-04-06T00:00:00\",\"2022-04-07T00:00:00\",\"2022-04-08T00:00:00\",\"2022-04-11T00:00:00\",\"2022-04-12T00:00:00\",\"2022-04-13T00:00:00\",\"2022-04-14T00:00:00\",\"2022-04-15T00:00:00\",\"2022-04-18T00:00:00\",\"2022-04-19T00:00:00\",\"2022-04-20T00:00:00\",\"2022-04-21T00:00:00\",\"2022-04-22T00:00:00\",\"2022-04-25T00:00:00\",\"2022-04-26T00:00:00\",\"2022-04-27T00:00:00\",\"2022-04-28T00:00:00\",\"2022-04-29T00:00:00\",\"2022-05-02T00:00:00\",\"2022-05-03T00:00:00\",\"2022-05-04T00:00:00\",\"2022-05-06T00:00:00\",\"2022-05-09T00:00:00\",\"2022-05-10T00:00:00\",\"2022-05-11T00:00:00\",\"2022-05-12T00:00:00\",\"2022-05-13T00:00:00\",\"2022-05-16T00:00:00\"],\"type\":\"candlestick\",\"xaxis\":\"x\",\"yaxis\":\"y\"},{\"showlegend\":false,\"x\":[\"2021-12-17T00:00:00\",\"2021-12-20T00:00:00\",\"2021-12-21T00:00:00\",\"2021-12-22T00:00:00\",\"2021-12-23T00:00:00\",\"2021-12-24T00:00:00\",\"2021-12-27T00:00:00\",\"2021-12-28T00:00:00\",\"2021-12-29T00:00:00\",\"2021-12-30T00:00:00\",\"2022-01-03T00:00:00\",\"2022-01-04T00:00:00\",\"2022-01-05T00:00:00\",\"2022-01-06T00:00:00\",\"2022-01-07T00:00:00\",\"2022-01-10T00:00:00\",\"2022-01-11T00:00:00\",\"2022-01-12T00:00:00\",\"2022-01-13T00:00:00\",\"2022-01-14T00:00:00\",\"2022-01-17T00:00:00\",\"2022-01-18T00:00:00\",\"2022-01-19T00:00:00\",\"2022-01-20T00:00:00\",\"2022-01-21T00:00:00\",\"2022-01-24T00:00:00\",\"2022-01-25T00:00:00\",\"2022-01-26T00:00:00\",\"2022-01-27T00:00:00\",\"2022-01-28T00:00:00\",\"2022-02-03T00:00:00\",\"2022-02-04T00:00:00\",\"2022-02-07T00:00:00\",\"2022-02-08T00:00:00\",\"2022-02-09T00:00:00\",\"2022-02-10T00:00:00\",\"2022-02-11T00:00:00\",\"2022-02-14T00:00:00\",\"2022-02-15T00:00:00\",\"2022-02-16T00:00:00\",\"2022-02-17T00:00:00\",\"2022-02-18T00:00:00\",\"2022-02-21T00:00:00\",\"2022-02-22T00:00:00\",\"2022-02-23T00:00:00\",\"2022-02-24T00:00:00\",\"2022-02-25T00:00:00\",\"2022-02-28T00:00:00\",\"2022-03-02T00:00:00\",\"2022-03-03T00:00:00\",\"2022-03-04T00:00:00\",\"2022-03-07T00:00:00\",\"2022-03-08T00:00:00\",\"2022-03-10T00:00:00\",\"2022-03-11T00:00:00\",\"2022-03-14T00:00:00\",\"2022-03-15T00:00:00\",\"2022-03-16T00:00:00\",\"2022-03-17T00:00:00\",\"2022-03-18T00:00:00\",\"2022-03-21T00:00:00\",\"2022-03-22T00:00:00\",\"2022-03-23T00:00:00\",\"2022-03-24T00:00:00\",\"2022-03-25T00:00:00\",\"2022-03-28T00:00:00\",\"2022-03-29T00:00:00\",\"2022-03-30T00:00:00\",\"2022-03-31T00:00:00\",\"2022-04-01T00:00:00\",\"2022-04-04T00:00:00\",\"2022-04-05T00:00:00\",\"2022-04-06T00:00:00\",\"2022-04-07T00:00:00\",\"2022-04-08T00:00:00\",\"2022-04-11T00:00:00\",\"2022-04-12T00:00:00\",\"2022-04-13T00:00:00\",\"2022-04-14T00:00:00\",\"2022-04-15T00:00:00\",\"2022-04-18T00:00:00\",\"2022-04-19T00:00:00\",\"2022-04-20T00:00:00\",\"2022-04-21T00:00:00\",\"2022-04-22T00:00:00\",\"2022-04-25T00:00:00\",\"2022-04-26T00:00:00\",\"2022-04-27T00:00:00\",\"2022-04-28T00:00:00\",\"2022-04-29T00:00:00\",\"2022-05-02T00:00:00\",\"2022-05-03T00:00:00\",\"2022-05-04T00:00:00\",\"2022-05-06T00:00:00\",\"2022-05-09T00:00:00\",\"2022-05-10T00:00:00\",\"2022-05-11T00:00:00\",\"2022-05-12T00:00:00\",\"2022-05-13T00:00:00\",\"2022-05-16T00:00:00\"],\"y\":[505284.0,630690.0,480367.0,263513.0,354342.0,412695.0,226757.0,551228.0,352409.0,369314.0,378920.0,803676.0,1151703.0,1280916.0,787839.0,828611.0,805084.0,1047713.0,677226.0,504907.0,418789.0,441573.0,749338.0,695553.0,580928.0,494977.0,799996.0,811297.0,949565.0,974351.0,884438.0,548945.0,492656.0,427530.0,377538.0,701866.0,450896.0,424845.0,335584.0,447832.0,481773.0,549382.0,550016.0,484404.0,443348.0,666538.0,857872.0,542469.0,546099.0,580888.0,445607.0,535033.0,559921.0,1521280.0,737003.0,679812.0,627012.0,584708.0,1070200.0,722326.0,398441.0,301259.0,504911.0,528012.0,559026.0,356589.0,323767.0,454373.0,427064.0,446987.0,283687.0,389951.0,647201.0,493204.0,626173.0,507362.0,467984.0,519629.0,459979.0,369642.0,209787.0,371024.0,496286.0,803990.0,1166406.0,823308.0,804555.0,875090.0,547958.0,540274.0,509250.0,419535.0,394212.0,787063.0,538607.0,732705.0,473201.0,611860.0,474153.0,384475.0],\"type\":\"bar\",\"xaxis\":\"x2\",\"yaxis\":\"y2\"}],                        {\"template\":{\"data\":{\"histogram2dcontour\":[{\"type\":\"histogram2dcontour\",\"colorbar\":{\"outlinewidth\":0,\"ticks\":\"\"},\"colorscale\":[[0.0,\"#0d0887\"],[0.1111111111111111,\"#46039f\"],[0.2222222222222222,\"#7201a8\"],[0.3333333333333333,\"#9c179e\"],[0.4444444444444444,\"#bd3786\"],[0.5555555555555556,\"#d8576b\"],[0.6666666666666666,\"#ed7953\"],[0.7777777777777778,\"#fb9f3a\"],[0.8888888888888888,\"#fdca26\"],[1.0,\"#f0f921\"]]}],\"choropleth\":[{\"type\":\"choropleth\",\"colorbar\":{\"outlinewidth\":0,\"ticks\":\"\"}}],\"histogram2d\":[{\"type\":\"histogram2d\",\"colorbar\":{\"outlinewidth\":0,\"ticks\":\"\"},\"colorscale\":[[0.0,\"#0d0887\"],[0.1111111111111111,\"#46039f\"],[0.2222222222222222,\"#7201a8\"],[0.3333333333333333,\"#9c179e\"],[0.4444444444444444,\"#bd3786\"],[0.5555555555555556,\"#d8576b\"],[0.6666666666666666,\"#ed7953\"],[0.7777777777777778,\"#fb9f3a\"],[0.8888888888888888,\"#fdca26\"],[1.0,\"#f0f921\"]]}],\"heatmap\":[{\"type\":\"heatmap\",\"colorbar\":{\"outlinewidth\":0,\"ticks\":\"\"},\"colorscale\":[[0.0,\"#0d0887\"],[0.1111111111111111,\"#46039f\"],[0.2222222222222222,\"#7201a8\"],[0.3333333333333333,\"#9c179e\"],[0.4444444444444444,\"#bd3786\"],[0.5555555555555556,\"#d8576b\"],[0.6666666666666666,\"#ed7953\"],[0.7777777777777778,\"#fb9f3a\"],[0.8888888888888888,\"#fdca26\"],[1.0,\"#f0f921\"]]}],\"heatmapgl\":[{\"type\":\"heatmapgl\",\"colorbar\":{\"outlinewidth\":0,\"ticks\":\"\"},\"colorscale\":[[0.0,\"#0d0887\"],[0.1111111111111111,\"#46039f\"],[0.2222222222222222,\"#7201a8\"],[0.3333333333333333,\"#9c179e\"],[0.4444444444444444,\"#bd3786\"],[0.5555555555555556,\"#d8576b\"],[0.6666666666666666,\"#ed7953\"],[0.7777777777777778,\"#fb9f3a\"],[0.8888888888888888,\"#fdca26\"],[1.0,\"#f0f921\"]]}],\"contourcarpet\":[{\"type\":\"contourcarpet\",\"colorbar\":{\"outlinewidth\":0,\"ticks\":\"\"}}],\"contour\":[{\"type\":\"contour\",\"colorbar\":{\"outlinewidth\":0,\"ticks\":\"\"},\"colorscale\":[[0.0,\"#0d0887\"],[0.1111111111111111,\"#46039f\"],[0.2222222222222222,\"#7201a8\"],[0.3333333333333333,\"#9c179e\"],[0.4444444444444444,\"#bd3786\"],[0.5555555555555556,\"#d8576b\"],[0.6666666666666666,\"#ed7953\"],[0.7777777777777778,\"#fb9f3a\"],[0.8888888888888888,\"#fdca26\"],[1.0,\"#f0f921\"]]}],\"surface\":[{\"type\":\"surface\",\"colorbar\":{\"outlinewidth\":0,\"ticks\":\"\"},\"colorscale\":[[0.0,\"#0d0887\"],[0.1111111111111111,\"#46039f\"],[0.2222222222222222,\"#7201a8\"],[0.3333333333333333,\"#9c179e\"],[0.4444444444444444,\"#bd3786\"],[0.5555555555555556,\"#d8576b\"],[0.6666666666666666,\"#ed7953\"],[0.7777777777777778,\"#fb9f3a\"],[0.8888888888888888,\"#fdca26\"],[1.0,\"#f0f921\"]]}],\"mesh3d\":[{\"type\":\"mesh3d\",\"colorbar\":{\"outlinewidth\":0,\"ticks\":\"\"}}],\"scatter\":[{\"fillpattern\":{\"fillmode\":\"overlay\",\"size\":10,\"solidity\":0.2},\"type\":\"scatter\"}],\"parcoords\":[{\"type\":\"parcoords\",\"line\":{\"colorbar\":{\"outlinewidth\":0,\"ticks\":\"\"}}}],\"scatterpolargl\":[{\"type\":\"scatterpolargl\",\"marker\":{\"colorbar\":{\"outlinewidth\":0,\"ticks\":\"\"}}}],\"bar\":[{\"error_x\":{\"color\":\"#2a3f5f\"},\"error_y\":{\"color\":\"#2a3f5f\"},\"marker\":{\"line\":{\"color\":\"#E5ECF6\",\"width\":0.5},\"pattern\":{\"fillmode\":\"overlay\",\"size\":10,\"solidity\":0.2}},\"type\":\"bar\"}],\"scattergeo\":[{\"type\":\"scattergeo\",\"marker\":{\"colorbar\":{\"outlinewidth\":0,\"ticks\":\"\"}}}],\"scatterpolar\":[{\"type\":\"scatterpolar\",\"marker\":{\"colorbar\":{\"outlinewidth\":0,\"ticks\":\"\"}}}],\"histogram\":[{\"marker\":{\"pattern\":{\"fillmode\":\"overlay\",\"size\":10,\"solidity\":0.2}},\"type\":\"histogram\"}],\"scattergl\":[{\"type\":\"scattergl\",\"marker\":{\"colorbar\":{\"outlinewidth\":0,\"ticks\":\"\"}}}],\"scatter3d\":[{\"type\":\"scatter3d\",\"line\":{\"colorbar\":{\"outlinewidth\":0,\"ticks\":\"\"}},\"marker\":{\"colorbar\":{\"outlinewidth\":0,\"ticks\":\"\"}}}],\"scattermapbox\":[{\"type\":\"scattermapbox\",\"marker\":{\"colorbar\":{\"outlinewidth\":0,\"ticks\":\"\"}}}],\"scatterternary\":[{\"type\":\"scatterternary\",\"marker\":{\"colorbar\":{\"outlinewidth\":0,\"ticks\":\"\"}}}],\"scattercarpet\":[{\"type\":\"scattercarpet\",\"marker\":{\"colorbar\":{\"outlinewidth\":0,\"ticks\":\"\"}}}],\"carpet\":[{\"aaxis\":{\"endlinecolor\":\"#2a3f5f\",\"gridcolor\":\"white\",\"linecolor\":\"white\",\"minorgridcolor\":\"white\",\"startlinecolor\":\"#2a3f5f\"},\"baxis\":{\"endlinecolor\":\"#2a3f5f\",\"gridcolor\":\"white\",\"linecolor\":\"white\",\"minorgridcolor\":\"white\",\"startlinecolor\":\"#2a3f5f\"},\"type\":\"carpet\"}],\"table\":[{\"cells\":{\"fill\":{\"color\":\"#EBF0F8\"},\"line\":{\"color\":\"white\"}},\"header\":{\"fill\":{\"color\":\"#C8D4E3\"},\"line\":{\"color\":\"white\"}},\"type\":\"table\"}],\"barpolar\":[{\"marker\":{\"line\":{\"color\":\"#E5ECF6\",\"width\":0.5},\"pattern\":{\"fillmode\":\"overlay\",\"size\":10,\"solidity\":0.2}},\"type\":\"barpolar\"}],\"pie\":[{\"automargin\":true,\"type\":\"pie\"}]},\"layout\":{\"autotypenumbers\":\"strict\",\"colorway\":[\"#636efa\",\"#EF553B\",\"#00cc96\",\"#ab63fa\",\"#FFA15A\",\"#19d3f3\",\"#FF6692\",\"#B6E880\",\"#FF97FF\",\"#FECB52\"],\"font\":{\"color\":\"#2a3f5f\"},\"hovermode\":\"closest\",\"hoverlabel\":{\"align\":\"left\"},\"paper_bgcolor\":\"white\",\"plot_bgcolor\":\"#E5ECF6\",\"polar\":{\"bgcolor\":\"#E5ECF6\",\"angularaxis\":{\"gridcolor\":\"white\",\"linecolor\":\"white\",\"ticks\":\"\"},\"radialaxis\":{\"gridcolor\":\"white\",\"linecolor\":\"white\",\"ticks\":\"\"}},\"ternary\":{\"bgcolor\":\"#E5ECF6\",\"aaxis\":{\"gridcolor\":\"white\",\"linecolor\":\"white\",\"ticks\":\"\"},\"baxis\":{\"gridcolor\":\"white\",\"linecolor\":\"white\",\"ticks\":\"\"},\"caxis\":{\"gridcolor\":\"white\",\"linecolor\":\"white\",\"ticks\":\"\"}},\"coloraxis\":{\"colorbar\":{\"outlinewidth\":0,\"ticks\":\"\"}},\"colorscale\":{\"sequential\":[[0.0,\"#0d0887\"],[0.1111111111111111,\"#46039f\"],[0.2222222222222222,\"#7201a8\"],[0.3333333333333333,\"#9c179e\"],[0.4444444444444444,\"#bd3786\"],[0.5555555555555556,\"#d8576b\"],[0.6666666666666666,\"#ed7953\"],[0.7777777777777778,\"#fb9f3a\"],[0.8888888888888888,\"#fdca26\"],[1.0,\"#f0f921\"]],\"sequentialminus\":[[0.0,\"#0d0887\"],[0.1111111111111111,\"#46039f\"],[0.2222222222222222,\"#7201a8\"],[0.3333333333333333,\"#9c179e\"],[0.4444444444444444,\"#bd3786\"],[0.5555555555555556,\"#d8576b\"],[0.6666666666666666,\"#ed7953\"],[0.7777777777777778,\"#fb9f3a\"],[0.8888888888888888,\"#fdca26\"],[1.0,\"#f0f921\"]],\"diverging\":[[0,\"#8e0152\"],[0.1,\"#c51b7d\"],[0.2,\"#de77ae\"],[0.3,\"#f1b6da\"],[0.4,\"#fde0ef\"],[0.5,\"#f7f7f7\"],[0.6,\"#e6f5d0\"],[0.7,\"#b8e186\"],[0.8,\"#7fbc41\"],[0.9,\"#4d9221\"],[1,\"#276419\"]]},\"xaxis\":{\"gridcolor\":\"white\",\"linecolor\":\"white\",\"ticks\":\"\",\"title\":{\"standoff\":15},\"zerolinecolor\":\"white\",\"automargin\":true,\"zerolinewidth\":2},\"yaxis\":{\"gridcolor\":\"white\",\"linecolor\":\"white\",\"ticks\":\"\",\"title\":{\"standoff\":15},\"zerolinecolor\":\"white\",\"automargin\":true,\"zerolinewidth\":2},\"scene\":{\"xaxis\":{\"backgroundcolor\":\"#E5ECF6\",\"gridcolor\":\"white\",\"linecolor\":\"white\",\"showbackground\":true,\"ticks\":\"\",\"zerolinecolor\":\"white\",\"gridwidth\":2},\"yaxis\":{\"backgroundcolor\":\"#E5ECF6\",\"gridcolor\":\"white\",\"linecolor\":\"white\",\"showbackground\":true,\"ticks\":\"\",\"zerolinecolor\":\"white\",\"gridwidth\":2},\"zaxis\":{\"backgroundcolor\":\"#E5ECF6\",\"gridcolor\":\"white\",\"linecolor\":\"white\",\"showbackground\":true,\"ticks\":\"\",\"zerolinecolor\":\"white\",\"gridwidth\":2}},\"shapedefaults\":{\"line\":{\"color\":\"#2a3f5f\"}},\"annotationdefaults\":{\"arrowcolor\":\"#2a3f5f\",\"arrowhead\":0,\"arrowwidth\":1},\"geo\":{\"bgcolor\":\"white\",\"landcolor\":\"#E5ECF6\",\"subunitcolor\":\"white\",\"showland\":true,\"showlakes\":true,\"lakecolor\":\"white\"},\"title\":{\"x\":0.05},\"mapbox\":{\"style\":\"light\"}}},\"xaxis\":{\"anchor\":\"y\",\"domain\":[0.0,1.0],\"matches\":\"x2\",\"showticklabels\":false,\"rangeslider\":{\"visible\":false},\"rangebreaks\":[{\"bounds\":[\"sat\",\"mon\"]},{\"values\":[\"2021-01-01\",\"2021-02-11\",\"2021-02-12\",\"2021-03-01\",\"2021-05-05\",\"2021-05-19\",\"2021-08-16\",\"2021-09-20\",\"2021-09-21\",\"2021-09-22\",\"2021-10-04\",\"2021-10-11\",\"2021-12-31\",\"2022-01-31\",\"2022-02-01\",\"2022-02-02\",\"2022-03-01\",\"2022-03-09\",\"2022-05-05\",\"2022-06-01\",\"2022-06-06\",\"2022-08-15\",\"2022-09-09\",\"2022-09-12\",\"2022-10-03\",\"2022-10-10\",\"2022-12-30\"]}]},\"yaxis\":{\"anchor\":\"x\",\"domain\":[0.30000000000000004,1.0]},\"xaxis2\":{\"anchor\":\"y2\",\"domain\":[0.0,1.0],\"rangebreaks\":[{\"bounds\":[\"sat\",\"mon\"]},{\"values\":[\"2021-01-01\",\"2021-02-11\",\"2021-02-12\",\"2021-03-01\",\"2021-05-05\",\"2021-05-19\",\"2021-08-16\",\"2021-09-20\",\"2021-09-21\",\"2021-09-22\",\"2021-10-04\",\"2021-10-11\",\"2021-12-31\",\"2022-01-31\",\"2022-02-01\",\"2022-02-02\",\"2022-03-01\",\"2022-03-09\",\"2022-05-05\",\"2022-06-01\",\"2022-06-06\",\"2022-08-15\",\"2022-09-09\",\"2022-09-12\",\"2022-10-03\",\"2022-10-10\",\"2022-12-30\"]}]},\"yaxis2\":{\"anchor\":\"x2\",\"domain\":[0.0,0.20000000000000004]},\"annotations\":[{\"font\":{\"size\":16},\"showarrow\":false,\"text\":\"NAVER\",\"x\":0.5,\"xanchor\":\"center\",\"xref\":\"paper\",\"y\":1.0,\"yanchor\":\"bottom\",\"yref\":\"paper\"},{\"font\":{\"size\":16},\"showarrow\":false,\"text\":\"Volume\",\"x\":0.5,\"xanchor\":\"center\",\"xref\":\"paper\",\"y\":0.20000000000000004,\"yanchor\":\"bottom\",\"yref\":\"paper\"}]},                        {\"responsive\": true}                    ).then(function(){\n",
       "                            \n",
       "var gd = document.getElementById('ecab9cb2-d114-4afa-8d53-067b8162bde5');\n",
       "var x = new MutationObserver(function (mutations, observer) {{\n",
       "        var display = window.getComputedStyle(gd).display;\n",
       "        if (!display || display === 'none') {{\n",
       "            console.log([gd, 'removed!']);\n",
       "            Plotly.purge(gd);\n",
       "            observer.disconnect();\n",
       "        }}\n",
       "}});\n",
       "\n",
       "// Listen for the removal of the full notebook cells\n",
       "var notebookContainer = gd.closest('#notebook-container');\n",
       "if (notebookContainer) {{\n",
       "    x.observe(notebookContainer, {childList: true});\n",
       "}}\n",
       "\n",
       "// Listen for the clearing of the current output cell\n",
       "var outputEl = gd.closest('.output');\n",
       "if (outputEl) {{\n",
       "    x.observe(outputEl, {childList: true});\n",
       "}}\n",
       "\n",
       "                        })                };                });            </script>        </div>"
      ]
     },
     "metadata": {},
     "output_type": "display_data"
    }
   ],
   "source": [
    "offline.init_notebook_mode(connected=True)\n",
    "\n",
    "# Reference: https://stackoverflow.com/questions/64689342/plotly-how-to-add-volume-to-a-candlestick-chart\n",
    "\n",
    "# Create subplots\n",
    "fig = make_subplots(rows=2, cols=1, shared_xaxes=True, vertical_spacing=0.1, subplot_titles=(stock_name, 'Volume'), row_width=[0.2, 0.7])\n",
    "\n",
    "# Plot OHLC \n",
    "fig = fig.add_trace(go.Candlestick(x=sise_df['Date'], open=sise_df['Opening Price'], high=sise_df['Highest'], low=sise_df['Lowest'], close=sise_df['Closing Price'],  name='OHLC'), row=1, col=1)\n",
    "\n",
    "# Bar trace for volumes \n",
    "fig = fig.add_trace(go.Bar(x=sise_df['Date'], y=sise_df['Volume'], showlegend=False), row=2, col=1)\n",
    "\n",
    "# Do not show OHLC's rangeslider plot \n",
    "fig.update(layout_xaxis_rangeslider_visible=False)\n",
    "\n",
    "# Hide weekends and holidays\n",
    "# data from krx holidays: http://open.krx.co.kr/contents/MKD/01/0110/01100305/MKD01100305.jsp\n",
    "xls_data = ['krx_holidays_data_2021.xls', 'krx_holidays_data_2022.xls']\n",
    "df = pd.DataFrame()\n",
    "for data in xls_data:\n",
    "    holidays = pd.read_excel(data)\n",
    "    df = df.append(holidays)\n",
    "holidays_date = df.iloc[:, 0].to_list()\n",
    "fig.update_xaxes(rangebreaks=[dict(bounds=[\"sat\", \"mon\"]), dict(values=holidays_date)])\n",
    "\n",
    "fig.show()"
   ]
  }
 ],
 "metadata": {
  "kernelspec": {
   "display_name": "Python 3 (ipykernel)",
   "language": "python",
   "name": "python3"
  },
  "language_info": {
   "codemirror_mode": {
    "name": "ipython",
    "version": 3
   },
   "file_extension": ".py",
   "mimetype": "text/x-python",
   "name": "python",
   "nbconvert_exporter": "python",
   "pygments_lexer": "ipython3",
   "version": "3.9.7"
  }
 },
 "nbformat": 4,
 "nbformat_minor": 5
}
